{
 "cells": [
  {
   "cell_type": "markdown",
   "id": "e238d578",
   "metadata": {},
   "source": [
    "# ABM experiments\n",
    "\n",
    "This experiment simulate 1000 agents in Cambridge for a whole day and compare them with real data"
   ]
  },
  {
   "cell_type": "code",
   "execution_count": null,
   "id": "fd31b7e1",
   "metadata": {},
   "outputs": [
    {
     "name": "stderr",
     "output_type": "stream",
     "text": [
      "/home/jovyan/work/mobility_agent/.venv/lib/python3.13/site-packages/tqdm/auto.py:21: TqdmWarning: IProgress not found. Please update jupyter and ipywidgets. See https://ipywidgets.readthedocs.io/en/stable/user_install.html\n",
      "  from .autonotebook import tqdm as notebook_tqdm\n",
      "  0%|          | 4/1000 [16:31<92:56:52, 335.96s/it]"
     ]
    },
    {
     "name": "stdout",
     "output_type": "stream",
     "text": [
      "unconverted data remains: 5\n",
      "unconverted data remains: 3\n",
      "unconverted data remains: 2\n"
     ]
    },
    {
     "name": "stderr",
     "output_type": "stream",
     "text": [
      "  1%|          | 9/1000 [22:12<29:38:07, 107.66s/it]"
     ]
    },
    {
     "name": "stdout",
     "output_type": "stream",
     "text": [
      "unconverted data remains: 3\n"
     ]
    },
    {
     "name": "stderr",
     "output_type": "stream",
     "text": [
      "  1%|▏         | 13/1000 [27:52<24:54:15, 90.84s/it]"
     ]
    },
    {
     "name": "stdout",
     "output_type": "stream",
     "text": [
      "unconverted data remains: 7\n",
      "unconverted data remains: 7\n",
      "unconverted data remains: 7\n",
      "unconverted data remains: 8\n"
     ]
    },
    {
     "name": "stderr",
     "output_type": "stream",
     "text": [
      "  1%|▏         | 14/1000 [28:39<21:17:49, 77.76s/it]"
     ]
    },
    {
     "name": "stdout",
     "output_type": "stream",
     "text": [
      "unconverted data remains: 3\n"
     ]
    },
    {
     "name": "stderr",
     "output_type": "stream",
     "text": [
      "  2%|▏         | 20/1000 [34:40<17:05:22, 62.78s/it]"
     ]
    },
    {
     "name": "stdout",
     "output_type": "stream",
     "text": [
      "unconverted data remains: 6\n",
      "unconverted data remains: 8\n",
      "unconverted data remains: 0\n",
      "unconverted data remains: 3\n",
      "unconverted data remains: 3\n",
      "unconverted data remains: 5\n"
     ]
    },
    {
     "name": "stderr",
     "output_type": "stream",
     "text": [
      "  2%|▏         | 24/1000 [39:01<18:13:22, 67.22s/it]"
     ]
    },
    {
     "name": "stdout",
     "output_type": "stream",
     "text": [
      "unconverted data remains: 7\n",
      "unconverted data remains: 0\n",
      "unconverted data remains: 3\n",
      "unconverted data remains: 5\n"
     ]
    },
    {
     "name": "stderr",
     "output_type": "stream",
     "text": [
      "  3%|▎         | 31/1000 [56:51<34:12:50, 127.11s/it]"
     ]
    },
    {
     "name": "stdout",
     "output_type": "stream",
     "text": [
      "unconverted data remains: 3\n",
      "unconverted data remains: 2\n"
     ]
    },
    {
     "name": "stderr",
     "output_type": "stream",
     "text": [
      "  4%|▍         | 40/1000 [1:06:54<18:05:54, 67.87s/it]"
     ]
    },
    {
     "name": "stdout",
     "output_type": "stream",
     "text": [
      "unconverted data remains: 3\n",
      "unconverted data remains: 0\n",
      "unconverted data remains: 6\n",
      "unconverted data remains: 8\n"
     ]
    },
    {
     "name": "stderr",
     "output_type": "stream",
     "text": [
      "  4%|▍         | 43/1000 [1:10:21<18:06:52, 68.14s/it]"
     ]
    },
    {
     "name": "stdout",
     "output_type": "stream",
     "text": [
      "unconverted data remains: 6\n",
      "unconverted data remains: 3\n",
      "unconverted data remains: 0\n",
      "unconverted data remains: 1\n",
      "unconverted data remains: 3\n"
     ]
    },
    {
     "name": "stderr",
     "output_type": "stream",
     "text": [
      "  4%|▍         | 44/1000 [1:11:22<17:29:11, 65.85s/it]"
     ]
    },
    {
     "name": "stdout",
     "output_type": "stream",
     "text": [
      "unconverted data remains: 5\n",
      "unconverted data remains: 5\n"
     ]
    },
    {
     "name": "stderr",
     "output_type": "stream",
     "text": [
      "  5%|▍         | 46/1000 [1:13:20<16:41:33, 62.99s/it]"
     ]
    },
    {
     "name": "stdout",
     "output_type": "stream",
     "text": [
      "unconverted data remains: 5\n",
      "unconverted data remains: 3\n",
      "unconverted data remains: 7\n",
      "unconverted data remains: 3\n"
     ]
    },
    {
     "name": "stderr",
     "output_type": "stream",
     "text": [
      "  5%|▍         | 47/1000 [1:14:17<16:07:39, 60.92s/it]"
     ]
    }
   ],
   "source": [
    "from mobility_agent.agent import MobilityAgent\n",
    "from tqdm import tqdm\n",
    "\n",
    "# the simulation results are saved to 'data/agents'\n",
    "for i in tqdm(range(380)):\n",
    "    try:\n",
    "        agent = MobilityAgent(city=\"Cambridge,MA\")\n",
    "        agent.get_time_schedule()\n",
    "    except Exception as e:\n",
    "        print(e)\n",
    "        pass"
   ]
  },
  {
   "cell_type": "markdown",
   "id": "cfa5a94f",
   "metadata": {},
   "source": [
    "# Comparision of POI selection"
   ]
  },
  {
   "cell_type": "markdown",
   "id": "c243ee82",
   "metadata": {},
   "source": [
    "# Comparision of Road Traffic"
   ]
  }
 ],
 "metadata": {
  "kernelspec": {
   "display_name": "mobility_agent",
   "language": "python",
   "name": ".venv"
  },
  "language_info": {
   "codemirror_mode": {
    "name": "ipython",
    "version": 3
   },
   "file_extension": ".py",
   "mimetype": "text/x-python",
   "name": "python",
   "nbconvert_exporter": "python",
   "pygments_lexer": "ipython3",
   "version": "3.13.3"
  }
 },
 "nbformat": 4,
 "nbformat_minor": 5
}
