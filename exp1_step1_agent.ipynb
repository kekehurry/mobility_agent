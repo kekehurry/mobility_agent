{
 "cells": [
  {
   "cell_type": "markdown",
   "id": "3c8cb97a",
   "metadata": {},
   "source": [
    "# Mode Prediction Experiment\n",
    "\n",
    "This experiment simulate the mode choice of 1000 agents in Cambridge and compare them with real data"
   ]
  },
  {
   "cell_type": "markdown",
   "id": "4f3fb7ec",
   "metadata": {},
   "source": [
    "### Get Evaluation Data"
   ]
  },
  {
   "cell_type": "code",
   "execution_count": 7,
   "id": "8c4fbeb2",
   "metadata": {},
   "outputs": [
    {
     "data": {
      "text/html": [
       "<div>\n",
       "<style scoped>\n",
       "    .dataframe tbody tr th:only-of-type {\n",
       "        vertical-align: middle;\n",
       "    }\n",
       "\n",
       "    .dataframe tbody tr th {\n",
       "        vertical-align: top;\n",
       "    }\n",
       "\n",
       "    .dataframe thead th {\n",
       "        text-align: right;\n",
       "    }\n",
       "</style>\n",
       "<table border=\"1\" class=\"dataframe\">\n",
       "  <thead>\n",
       "    <tr style=\"text-align: right;\">\n",
       "      <th></th>\n",
       "      <th>person_id</th>\n",
       "      <th>age</th>\n",
       "      <th>gender</th>\n",
       "      <th>employment_status</th>\n",
       "      <th>household_size</th>\n",
       "      <th>household_income</th>\n",
       "      <th>available_vehicles</th>\n",
       "      <th>industry</th>\n",
       "      <th>education</th>\n",
       "      <th>trip_purpose</th>\n",
       "      <th>start_time</th>\n",
       "      <th>primary_mode</th>\n",
       "      <th>duration_minutes</th>\n",
       "      <th>age_group</th>\n",
       "      <th>income_group</th>\n",
       "    </tr>\n",
       "  </thead>\n",
       "  <tbody>\n",
       "    <tr>\n",
       "      <th>0</th>\n",
       "      <td>14941376504966255761</td>\n",
       "      <td>16</td>\n",
       "      <td>male</td>\n",
       "      <td>not_in_labor_force</td>\n",
       "      <td>4</td>\n",
       "      <td>140343</td>\n",
       "      <td>two</td>\n",
       "      <td>not_working</td>\n",
       "      <td>k_12</td>\n",
       "      <td>eat</td>\n",
       "      <td>14</td>\n",
       "      <td>walking</td>\n",
       "      <td>10-20</td>\n",
       "      <td>Under 18</td>\n",
       "      <td>$100k-$150k</td>\n",
       "    </tr>\n",
       "    <tr>\n",
       "      <th>1</th>\n",
       "      <td>741506727884677094</td>\n",
       "      <td>60</td>\n",
       "      <td>male</td>\n",
       "      <td>employed</td>\n",
       "      <td>1</td>\n",
       "      <td>37850</td>\n",
       "      <td>one</td>\n",
       "      <td>naics445110</td>\n",
       "      <td>bachelors_degree</td>\n",
       "      <td>eat</td>\n",
       "      <td>14</td>\n",
       "      <td>walking</td>\n",
       "      <td>50-60</td>\n",
       "      <td>55-64</td>\n",
       "      <td>$10k-$50k</td>\n",
       "    </tr>\n",
       "  </tbody>\n",
       "</table>\n",
       "</div>"
      ],
      "text/plain": [
       "              person_id  age gender   employment_status  household_size  \\\n",
       "0  14941376504966255761   16   male  not_in_labor_force               4   \n",
       "1    741506727884677094   60   male            employed               1   \n",
       "\n",
       "   household_income available_vehicles     industry         education  \\\n",
       "0            140343                two  not_working              k_12   \n",
       "1             37850                one  naics445110  bachelors_degree   \n",
       "\n",
       "  trip_purpose  start_time primary_mode duration_minutes age_group  \\\n",
       "0          eat          14      walking            10-20  Under 18   \n",
       "1          eat          14      walking            50-60     55-64   \n",
       "\n",
       "  income_group  \n",
       "0  $100k-$150k  \n",
       "1    $10k-$50k  "
      ]
     },
     "execution_count": 7,
     "metadata": {},
     "output_type": "execute_result"
    }
   ],
   "source": [
    "from baseline.data import load_data\n",
    "eval_file = 'data/eval/replica-cambridge_trips_eval.csv'\n",
    "eval_df = load_data(eval_file)\n",
    "eval_df.head(2)"
   ]
  },
  {
   "cell_type": "markdown",
   "id": "a032b370",
   "metadata": {},
   "source": [
    "###  Get Results"
   ]
  },
  {
   "cell_type": "code",
   "execution_count": null,
   "id": "dac34b25",
   "metadata": {},
   "outputs": [
    {
     "name": "stdout",
     "output_type": "stream",
     "text": [
      "=======Mobility Agent (num_samples=100)=======\n"
     ]
    },
    {
     "name": "stderr",
     "output_type": "stream",
     "text": [
      "  0%|          | 2/1000 [00:22<3:03:55, 11.06s/it]"
     ]
    }
   ],
   "source": [
    "import json\n",
    "import os\n",
    "import random\n",
    "from tqdm import tqdm\n",
    "\n",
    "from mobility_agent.agent import MobilityAgent\n",
    "from baseline.eval import cal_group_kl_divergence,cal_topk_acc\n",
    "\n",
    "profile_columns = ['age_group','income_group','employment_status','household_size','available_vehicles','education']\n",
    "\n",
    "eval_results = {}\n",
    "for i in range(1,11):\n",
    "    num_samples = i*100\n",
    "    print(f\"=======Mobility Agent (num_samples={num_samples})=======\")\n",
    "    save_path = f\"models/mobility_agent/mobility_agent_{num_samples}.csv\"\n",
    "    os.makedirs(os.path.dirname(save_path),exist_ok=True)\n",
    "    for idx, row in tqdm(eval_df.iterrows(),total=len(eval_df)):\n",
    "        try:\n",
    "            profile = row[profile_columns].to_dict()\n",
    "            desire  = row['trip_purpose']\n",
    "            time = row['start_time']\n",
    "            agent = MobilityAgent(profile=json.dumps(profile),sample_num=num_samples)\n",
    "            agent.working_memory = [\"Today is a normal weekday\"]\n",
    "            if num_samples == 0:\n",
    "                mode_prefernce= agent.get_mode_prefernce(desire=desire,time=time,use_reference=False)\n",
    "            else:\n",
    "                mode_prefernce= agent.get_mode_prefernce(desire=desire,time=time,use_reference=True)\n",
    "            choice_weights = mode_prefernce['choice_weights']\n",
    "            modes = [choice['primary_mode'] for choice in choice_weights]\n",
    "            weights = [choice['weight'] for choice in choice_weights]\n",
    "            selected_mode_idx = random.choices(range(len(modes)), weights=weights, k=1)[0]\n",
    "            selected_mode = choice_weights[selected_mode_idx]\n",
    "            eval_df.loc[idx,\"predicted_mode\"] = selected_mode['primary_mode']\n",
    "            eval_df.loc[idx,\"predicted_duration\"] = selected_mode['duration_minutes']\n",
    "            eval_df.loc[idx,\"selection_reason\"] = json.dumps(mode_prefernce['think'])\n",
    "            eval_df.loc[idx,\"choice_weights\"] = json.dumps(choice_weights)\n",
    "            if idx % 100 ==0:\n",
    "                eval_df.to_csv(save_path)\n",
    "        except Exception as e:\n",
    "            print(e)\n",
    "    eval_df.to_csv(save_path)\n",
    "    print(f\"=======Evaluating model=======\")\n",
    "    k = 3\n",
    "    result_df = eval_df.copy()\n",
    "    topk_accuracies = cal_topk_acc(result_df=result_df,k=k)\n",
    "    kl_df, overall_kl,overall_mae = cal_group_kl_divergence(result_df=result_df)\n",
    "    print(f\"Top {k} accuracy: { topk_accuracies['average']:.4f}\")\n",
    "    print(f\"Overall average KL divergence: {overall_kl:.4f}\")\n",
    "    print(f\"Overall mean absolute error: {overall_mae:.4f}\")"
   ]
  },
  {
   "cell_type": "code",
   "execution_count": 1,
   "id": "52a35387",
   "metadata": {},
   "outputs": [
    {
     "name": "stdout",
     "output_type": "stream",
     "text": [
      "Top 3 accuracy: 0.4680\n",
      "Overall average KL divergence: 1.3639\n",
      "Overall mean absolute error: 0.1659\n"
     ]
    }
   ],
   "source": [
    "import pandas as pd\n",
    "# from mobility_agent.agent import MobilityAgent\n",
    "from baseline.eval import cal_group_kl_divergence,cal_topk_acc\n",
    "\n",
    "group_features = ['age_group','income_group', 'employment_status', 'household_size','available_vehicles', 'education', 'trip_purpose','start_time']\n",
    "\n",
    "result_path = \"models/mobility_agent/mobility_agent_0.csv\"\n",
    "result_df = pd.read_csv(result_path)\n",
    "k = 3\n",
    "topk_accuracies = cal_topk_acc(result_df=result_df,k=k)\n",
    "kl_df, overall_kl,overall_mpe = cal_group_kl_divergence(result_df=result_df,group_features=group_features)\n",
    "print(f\"Top {k} accuracy: { topk_accuracies['average']:.4f}\")\n",
    "print(f\"Overall average KL divergence: {overall_kl:.4f}\")\n",
    "print(f\"Overall mean absolute error: {overall_mpe:.4f}\")"
   ]
  },
  {
   "cell_type": "markdown",
   "id": "788998b8",
   "metadata": {},
   "source": [
    "### Cambridge refrence predict SF"
   ]
  },
  {
   "cell_type": "code",
   "execution_count": 1,
   "id": "62073918",
   "metadata": {},
   "outputs": [
    {
     "data": {
      "text/html": [
       "<div>\n",
       "<style scoped>\n",
       "    .dataframe tbody tr th:only-of-type {\n",
       "        vertical-align: middle;\n",
       "    }\n",
       "\n",
       "    .dataframe tbody tr th {\n",
       "        vertical-align: top;\n",
       "    }\n",
       "\n",
       "    .dataframe thead th {\n",
       "        text-align: right;\n",
       "    }\n",
       "</style>\n",
       "<table border=\"1\" class=\"dataframe\">\n",
       "  <thead>\n",
       "    <tr style=\"text-align: right;\">\n",
       "      <th></th>\n",
       "      <th>person_id</th>\n",
       "      <th>age</th>\n",
       "      <th>gender</th>\n",
       "      <th>employment_status</th>\n",
       "      <th>household_size</th>\n",
       "      <th>household_income</th>\n",
       "      <th>available_vehicles</th>\n",
       "      <th>industry</th>\n",
       "      <th>education</th>\n",
       "      <th>trip_purpose</th>\n",
       "      <th>start_time</th>\n",
       "      <th>primary_mode</th>\n",
       "      <th>duration_minutes</th>\n",
       "      <th>age_group</th>\n",
       "      <th>income_group</th>\n",
       "    </tr>\n",
       "  </thead>\n",
       "  <tbody>\n",
       "    <tr>\n",
       "      <th>0</th>\n",
       "      <td>1008394524663602144</td>\n",
       "      <td>41</td>\n",
       "      <td>male</td>\n",
       "      <td>employed</td>\n",
       "      <td>5</td>\n",
       "      <td>165219</td>\n",
       "      <td>two</td>\n",
       "      <td>naics722511</td>\n",
       "      <td>k_12</td>\n",
       "      <td>work</td>\n",
       "      <td>8</td>\n",
       "      <td>public_transit</td>\n",
       "      <td>40-50</td>\n",
       "      <td>35-44</td>\n",
       "      <td>$150k-$200k</td>\n",
       "    </tr>\n",
       "    <tr>\n",
       "      <th>1</th>\n",
       "      <td>17686081048863139877</td>\n",
       "      <td>57</td>\n",
       "      <td>female</td>\n",
       "      <td>employed</td>\n",
       "      <td>2</td>\n",
       "      <td>195539</td>\n",
       "      <td>one</td>\n",
       "      <td>naics5615</td>\n",
       "      <td>bachelors_degree</td>\n",
       "      <td>eat</td>\n",
       "      <td>11</td>\n",
       "      <td>auto_passenger</td>\n",
       "      <td>10-20</td>\n",
       "      <td>55-64</td>\n",
       "      <td>$150k-$200k</td>\n",
       "    </tr>\n",
       "  </tbody>\n",
       "</table>\n",
       "</div>"
      ],
      "text/plain": [
       "              person_id  age  gender employment_status  household_size  \\\n",
       "0   1008394524663602144   41    male          employed               5   \n",
       "1  17686081048863139877   57  female          employed               2   \n",
       "\n",
       "   household_income available_vehicles     industry         education  \\\n",
       "0            165219                two  naics722511              k_12   \n",
       "1            195539                one    naics5615  bachelors_degree   \n",
       "\n",
       "  trip_purpose  start_time    primary_mode duration_minutes age_group  \\\n",
       "0         work           8  public_transit            40-50     35-44   \n",
       "1          eat          11  auto_passenger            10-20     55-64   \n",
       "\n",
       "  income_group  \n",
       "0  $150k-$200k  \n",
       "1  $150k-$200k  "
      ]
     },
     "execution_count": 1,
     "metadata": {},
     "output_type": "execute_result"
    }
   ],
   "source": [
    "from baseline.data import load_data\n",
    "eval_file = 'data/eval/replica-sf_trips_eval.csv'\n",
    "eval_df = load_data(eval_file)\n",
    "eval_df.head(2)"
   ]
  },
  {
   "cell_type": "code",
   "execution_count": 2,
   "id": "5d8df5d2",
   "metadata": {},
   "outputs": [
    {
     "name": "stdout",
     "output_type": "stream",
     "text": [
      "=======Mobility Agent (num_samples=0)=======\n"
     ]
    },
    {
     "name": "stderr",
     "output_type": "stream",
     "text": [
      "100%|██████████| 1000/1000 [4:20:36<00:00, 15.64s/it] "
     ]
    },
    {
     "name": "stdout",
     "output_type": "stream",
     "text": [
      "=======Evaluating model=======\n",
      "Top 3 accuracy: 0.5340\n",
      "Overall average KL divergence: 1.0451\n",
      "Overall mean absolute error: 0.1306\n"
     ]
    },
    {
     "name": "stderr",
     "output_type": "stream",
     "text": [
      "\n"
     ]
    }
   ],
   "source": [
    "import json\n",
    "import os\n",
    "import random\n",
    "from tqdm import tqdm\n",
    "\n",
    "from mobility_agent.agent import MobilityAgent\n",
    "from baseline.eval import cal_group_kl_divergence,cal_topk_acc\n",
    "\n",
    "profile_columns = ['age_group','income_group','employment_status','household_size','available_vehicles','education']\n",
    "\n",
    "eval_results = {}\n",
    "num_samples = 0\n",
    "print(f\"=======Mobility Agent (num_samples={num_samples})=======\")\n",
    "save_path = f\"models/mobility_agent/mobility_agent_sf_{num_samples}.csv\"\n",
    "os.makedirs(os.path.dirname(save_path),exist_ok=True)\n",
    "for idx, row in tqdm(eval_df.iterrows(),total=len(eval_df)):\n",
    "    # try:\n",
    "    profile = row[profile_columns].to_dict()\n",
    "    desire  = row['trip_purpose']\n",
    "    time = row['start_time']\n",
    "    agent = MobilityAgent(profile=json.dumps(profile),sample_num=num_samples,city=\"San Francisco,CA\")\n",
    "    agent.working_memory = [\"Today is a normal weekday\"]\n",
    "    if num_samples == 0:\n",
    "        mode_prefernce= agent.get_mode_prefernce(desire=desire,time=time,use_reference=False)\n",
    "    else:\n",
    "        mode_prefernce= agent.get_mode_prefernce(desire=desire,time=time,use_reference=True)\n",
    "    choice_weights = mode_prefernce['choice_weights']\n",
    "    modes = [choice['primary_mode'] for choice in choice_weights]\n",
    "    weights = [choice['weight'] for choice in choice_weights]\n",
    "    selected_mode_idx = random.choices(range(len(modes)), weights=weights, k=1)[0]\n",
    "    selected_mode = choice_weights[selected_mode_idx]\n",
    "    eval_df.loc[idx,\"predicted_mode\"] = selected_mode['primary_mode']\n",
    "    eval_df.loc[idx,\"predicted_duration\"] = selected_mode['duration_minutes']\n",
    "    eval_df.loc[idx,\"selection_reason\"] = json.dumps(mode_prefernce['think'])\n",
    "    eval_df.loc[idx,\"choice_weights\"] = json.dumps(choice_weights)\n",
    "    if idx % 100 ==0:\n",
    "        eval_df.to_csv(save_path)\n",
    "    # except Exception as e:\n",
    "    #     print(e)\n",
    "eval_df.to_csv(save_path)\n",
    "print(f\"=======Evaluating model=======\")\n",
    "k = 3\n",
    "result_df = eval_df.copy()\n",
    "topk_accuracies = cal_topk_acc(result_df=result_df,k=k)\n",
    "kl_df, overall_kl,overall_mae = cal_group_kl_divergence(result_df=result_df)\n",
    "print(f\"Top {k} accuracy: { topk_accuracies['average']:.4f}\")\n",
    "print(f\"Overall average KL divergence: {overall_kl:.4f}\")\n",
    "print(f\"Overall mean absolute error: {overall_mae:.4f}\")"
   ]
  },
  {
   "cell_type": "code",
   "execution_count": null,
   "id": "cffab656",
   "metadata": {},
   "outputs": [],
   "source": []
  }
 ],
 "metadata": {
  "kernelspec": {
   "display_name": ".venv",
   "language": "python",
   "name": "python3"
  },
  "language_info": {
   "codemirror_mode": {
    "name": "ipython",
    "version": 3
   },
   "file_extension": ".py",
   "mimetype": "text/x-python",
   "name": "python",
   "nbconvert_exporter": "python",
   "pygments_lexer": "ipython3",
   "version": "3.13.3"
  }
 },
 "nbformat": 4,
 "nbformat_minor": 5
}
