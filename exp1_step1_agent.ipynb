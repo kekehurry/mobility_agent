{
 "cells": [
  {
   "cell_type": "markdown",
   "id": "3c8cb97a",
   "metadata": {},
   "source": [
    "# Mode Prediction Experiment\n",
    "\n",
    "This experiment simulate the mode choice of 1000 agents in Cambridge and compare them with real data"
   ]
  },
  {
   "cell_type": "markdown",
   "id": "4f3fb7ec",
   "metadata": {},
   "source": [
    "### Get Evaluation Data"
   ]
  },
  {
   "cell_type": "code",
   "execution_count": 2,
   "id": "8c4fbeb2",
   "metadata": {},
   "outputs": [
    {
     "data": {
      "text/html": [
       "<div>\n",
       "<style scoped>\n",
       "    .dataframe tbody tr th:only-of-type {\n",
       "        vertical-align: middle;\n",
       "    }\n",
       "\n",
       "    .dataframe tbody tr th {\n",
       "        vertical-align: top;\n",
       "    }\n",
       "\n",
       "    .dataframe thead th {\n",
       "        text-align: right;\n",
       "    }\n",
       "</style>\n",
       "<table border=\"1\" class=\"dataframe\">\n",
       "  <thead>\n",
       "    <tr style=\"text-align: right;\">\n",
       "      <th></th>\n",
       "      <th>person_id</th>\n",
       "      <th>age</th>\n",
       "      <th>gender</th>\n",
       "      <th>employment_status</th>\n",
       "      <th>household_size</th>\n",
       "      <th>household_income</th>\n",
       "      <th>available_vehicles</th>\n",
       "      <th>industry</th>\n",
       "      <th>education</th>\n",
       "      <th>trip_purpose</th>\n",
       "      <th>start_time</th>\n",
       "      <th>primary_mode</th>\n",
       "      <th>duration_minutes</th>\n",
       "      <th>age_group</th>\n",
       "      <th>income_group</th>\n",
       "    </tr>\n",
       "  </thead>\n",
       "  <tbody>\n",
       "    <tr>\n",
       "      <th>0</th>\n",
       "      <td>14941376504966255761</td>\n",
       "      <td>16</td>\n",
       "      <td>male</td>\n",
       "      <td>not_in_labor_force</td>\n",
       "      <td>4</td>\n",
       "      <td>140343</td>\n",
       "      <td>two</td>\n",
       "      <td>not_working</td>\n",
       "      <td>k_12</td>\n",
       "      <td>eat</td>\n",
       "      <td>14</td>\n",
       "      <td>walking</td>\n",
       "      <td>10-20</td>\n",
       "      <td>Under 18</td>\n",
       "      <td>$100k-$150k</td>\n",
       "    </tr>\n",
       "    <tr>\n",
       "      <th>1</th>\n",
       "      <td>741506727884677094</td>\n",
       "      <td>60</td>\n",
       "      <td>male</td>\n",
       "      <td>employed</td>\n",
       "      <td>1</td>\n",
       "      <td>37850</td>\n",
       "      <td>one</td>\n",
       "      <td>naics445110</td>\n",
       "      <td>bachelors_degree</td>\n",
       "      <td>eat</td>\n",
       "      <td>14</td>\n",
       "      <td>walking</td>\n",
       "      <td>50-60</td>\n",
       "      <td>55-64</td>\n",
       "      <td>$10k-$50k</td>\n",
       "    </tr>\n",
       "  </tbody>\n",
       "</table>\n",
       "</div>"
      ],
      "text/plain": [
       "              person_id  age gender   employment_status  household_size  \\\n",
       "0  14941376504966255761   16   male  not_in_labor_force               4   \n",
       "1    741506727884677094   60   male            employed               1   \n",
       "\n",
       "   household_income available_vehicles     industry         education  \\\n",
       "0            140343                two  not_working              k_12   \n",
       "1             37850                one  naics445110  bachelors_degree   \n",
       "\n",
       "  trip_purpose  start_time primary_mode duration_minutes age_group  \\\n",
       "0          eat          14      walking            10-20  Under 18   \n",
       "1          eat          14      walking            50-60     55-64   \n",
       "\n",
       "  income_group  \n",
       "0  $100k-$150k  \n",
       "1    $10k-$50k  "
      ]
     },
     "execution_count": 2,
     "metadata": {},
     "output_type": "execute_result"
    }
   ],
   "source": [
    "from baseline.data import load_data\n",
    "import random\n",
    "import numpy as np\n",
    "import os\n",
    "# 设置全局随机种子\n",
    "seed = 42\n",
    "random.seed(seed)\n",
    "np.random.seed(seed)\n",
    "os.environ['PYTHONHASHSEED'] = str(seed)  # 确保哈希随机性也被控制\n",
    "\n",
    "eval_file = 'data/eval/replica-cambridge_trips_eval.csv'\n",
    "eval_df = load_data(eval_file)\n",
    "eval_df.head(2)"
   ]
  },
  {
   "cell_type": "markdown",
   "id": "a032b370",
   "metadata": {},
   "source": [
    "###  Run experiments"
   ]
  },
  {
   "cell_type": "code",
   "execution_count": 3,
   "id": "740dd394",
   "metadata": {},
   "outputs": [],
   "source": [
    "import json\n",
    "import os\n",
    "import random\n",
    "from tqdm import tqdm\n",
    "import pandas as pd\n",
    "import concurrent.futures\n",
    "from functools import partial\n",
    "\n",
    "from mobility_agent.agent import MobilityAgent\n",
    "from baseline.eval import cal_group_kl_divergence\n",
    "\n",
    "def process_row(row, num_samples, profile_columns,city):\n",
    "    try:\n",
    "        idx = row.name\n",
    "        profile = row[profile_columns].to_dict()\n",
    "        desire = row['trip_purpose']\n",
    "        time = row['start_time']\n",
    "        \n",
    "        agent = MobilityAgent(profile=json.dumps(profile), sample_num=num_samples,city=city)\n",
    "        agent.working_memory = [\"Today is a normal weekday\"]\n",
    "        \n",
    "        if num_samples == 0:\n",
    "            mode_preference = agent.get_mode_prefernce(desire=desire, time=time, use_reference=False)\n",
    "        else:\n",
    "            mode_preference = agent.get_mode_prefernce(desire=desire, time=time, use_reference=True)\n",
    "        \n",
    "        choice_weights = mode_preference['choice_weights']\n",
    "        modes = [choice['primary_mode'] for choice in choice_weights]\n",
    "        weights = [choice['weight'] for choice in choice_weights]\n",
    "        selected_mode_idx = random.choices(range(len(modes)), weights=weights, k=1)[0]\n",
    "        selected_mode = choice_weights[selected_mode_idx]\n",
    "        \n",
    "        return {\n",
    "            'idx': idx,\n",
    "            'predicted_mode': selected_mode['primary_mode'],\n",
    "            'predicted_duration': selected_mode['duration_minutes'],\n",
    "            'selection_reason': json.dumps(mode_preference['think']),\n",
    "            'choice_weights': json.dumps(choice_weights)\n",
    "        }\n",
    "    except Exception as e:\n",
    "        print(f\"Error processing row {row.name}: {e}\")\n",
    "        return None\n",
    "\n",
    "def run_experiments(eval_df,max_workers,num_samples,save_path,city='Cambridge,MA'):\n",
    "    # Set up parameters\n",
    "    profile_columns = ['age_group', 'income_group', 'employment_status', 'household_size', 'available_vehicles', 'education']\n",
    "    os.makedirs(os.path.dirname(save_path), exist_ok=True)\n",
    "\n",
    "    print(f\"=======Mobility Agent (num_samples={num_samples})=======\")\n",
    "\n",
    "    # Create a partial function with fixed parameters\n",
    "    process_row_partial = partial(process_row, num_samples=num_samples, profile_columns=profile_columns,city=city)\n",
    "\n",
    "    # Process rows in parallel\n",
    "    results = []\n",
    "    with concurrent.futures.ThreadPoolExecutor(max_workers=max_workers) as executor:\n",
    "        # Submit all jobs\n",
    "        future_to_idx = {executor.submit(process_row_partial, row): idx \n",
    "                        for idx, row in eval_df.iterrows()}\n",
    "        \n",
    "        # Process results as they complete with a progress bar\n",
    "        for future in tqdm(concurrent.futures.as_completed(future_to_idx), total=len(eval_df)):\n",
    "            result = future.result()\n",
    "            if result:\n",
    "                results.append(result)\n",
    "                \n",
    "            # Save intermediate results every 100 completed rows\n",
    "            if len(results) % 100 == 0:\n",
    "                # Update the dataframe with results so far\n",
    "                temp_df = eval_df.copy()\n",
    "                for res in results:\n",
    "                    idx = res['idx']\n",
    "                    temp_df.loc[idx, \"predicted_mode\"] = res['predicted_mode']\n",
    "                    temp_df.loc[idx, \"predicted_duration\"] = res['predicted_duration']\n",
    "                    temp_df.loc[idx, \"selection_reason\"] = res['selection_reason']\n",
    "                    temp_df.loc[idx, \"choice_weights\"] = res['choice_weights']\n",
    "                temp_df.to_csv(save_path)\n",
    "\n",
    "    # Update final dataframe with all results\n",
    "    for res in results:\n",
    "        idx = res['idx']\n",
    "        eval_df.loc[idx, \"predicted_mode\"] = res['predicted_mode']\n",
    "        eval_df.loc[idx, \"predicted_duration\"] = res['predicted_duration']\n",
    "        eval_df.loc[idx, \"selection_reason\"] = res['selection_reason']\n",
    "        eval_df.loc[idx, \"choice_weights\"] = res['choice_weights']\n",
    "\n",
    "    # Save final results\n",
    "    eval_df.to_csv(save_path)\n",
    "\n",
    "    print(f\"=======Evaluating model=======\")\n",
    "    result_df = eval_df.copy()\n",
    "    kl_df, overall_kl, overall_mae = cal_group_kl_divergence(result_df=result_df)\n",
    "    print(f\"Overall average KL divergence: {overall_kl:.4f}\")\n",
    "    print(f\"Overall mean absolute error: {overall_mae:.4f}\")"
   ]
  },
  {
   "cell_type": "markdown",
   "id": "3ac8a59c",
   "metadata": {},
   "source": [
    "### Get Results from local LLM"
   ]
  },
  {
   "cell_type": "code",
   "execution_count": 3,
   "id": "750feba8",
   "metadata": {},
   "outputs": [],
   "source": [
    "# # Change BASEURL and APIKEY in .env to use ollama\n",
    "# l1 = [i*10 for i in range(11)]\n",
    "# l2 = [i*100 for i in range(2,11)]\n",
    "# all_samples = l1 + l2\n",
    "# max_workers = min(os.cpu_count(), 8) \n",
    "\n",
    "# for num_samples in [800,900,1000]:\n",
    "#     for i in range(3):\n",
    "#         save_path = f\"models/mobility_agent/mobility_agent_sim{i}_{num_samples}.csv\"\n",
    "#         run_experiments(eval_df,max_workers=max_workers,num_samples=num_samples,save_path=save_path)"
   ]
  },
  {
   "cell_type": "markdown",
   "id": "6bfb8039",
   "metadata": {},
   "source": [
    "### Get Results from OpenAI"
   ]
  },
  {
   "cell_type": "code",
   "execution_count": 4,
   "id": "1766f1b1",
   "metadata": {},
   "outputs": [
    {
     "name": "stdout",
     "output_type": "stream",
     "text": [
      "=======Mobility Agent (num_samples=300)=======\n"
     ]
    },
    {
     "name": "stderr",
     "output_type": "stream",
     "text": [
      "100%|██████████| 1000/1000 [35:04<00:00,  2.10s/it] \n"
     ]
    },
    {
     "name": "stdout",
     "output_type": "stream",
     "text": [
      "=======Evaluating model=======\n",
      "Overall average KL divergence: 0.5823\n",
      "Overall mean absolute error: 0.0840\n",
      "=======Mobility Agent (num_samples=400)=======\n"
     ]
    },
    {
     "name": "stderr",
     "output_type": "stream",
     "text": [
      "100%|██████████| 1000/1000 [35:59<00:00,  2.16s/it] \n"
     ]
    },
    {
     "name": "stdout",
     "output_type": "stream",
     "text": [
      "=======Evaluating model=======\n",
      "Overall average KL divergence: 0.6000\n",
      "Overall mean absolute error: 0.0730\n",
      "=======Mobility Agent (num_samples=500)=======\n"
     ]
    },
    {
     "name": "stderr",
     "output_type": "stream",
     "text": [
      "100%|██████████| 1000/1000 [35:08<00:00,  2.11s/it] \n"
     ]
    },
    {
     "name": "stdout",
     "output_type": "stream",
     "text": [
      "=======Evaluating model=======\n",
      "Overall average KL divergence: 0.5897\n",
      "Overall mean absolute error: 0.0697\n",
      "=======Mobility Agent (num_samples=600)=======\n"
     ]
    },
    {
     "name": "stderr",
     "output_type": "stream",
     "text": [
      " 50%|████▉     | 497/1000 [17:52<37:31,  4.48s/it]  "
     ]
    },
    {
     "name": "stdout",
     "output_type": "stream",
     "text": [
      "Connection error.\n",
      "Error processing row 489: 'NoneType' object is not subscriptable\n"
     ]
    },
    {
     "name": "stderr",
     "output_type": "stream",
     "text": [
      " 50%|████▉     | 499/1000 [17:53<20:33,  2.46s/it]"
     ]
    },
    {
     "name": "stdout",
     "output_type": "stream",
     "text": [
      "Connection error.\n",
      "Error processing row 490: 'NoneType' object is not subscriptable\n"
     ]
    },
    {
     "name": "stderr",
     "output_type": "stream",
     "text": [
      " 50%|█████     | 502/1000 [17:56<12:54,  1.55s/it]"
     ]
    },
    {
     "name": "stdout",
     "output_type": "stream",
     "text": [
      "Connection error.\n",
      "Error processing row 494: 'NoneType' object is not subscriptable\n"
     ]
    },
    {
     "name": "stderr",
     "output_type": "stream",
     "text": [
      "100%|██████████| 1000/1000 [34:38<00:00,  2.08s/it]\n"
     ]
    },
    {
     "name": "stdout",
     "output_type": "stream",
     "text": [
      "=======Evaluating model=======\n",
      "Overall average KL divergence: 0.6108\n",
      "Overall mean absolute error: 0.0830\n",
      "=======Mobility Agent (num_samples=700)=======\n"
     ]
    },
    {
     "name": "stderr",
     "output_type": "stream",
     "text": [
      "100%|██████████| 1000/1000 [34:44<00:00,  2.08s/it] \n"
     ]
    },
    {
     "name": "stdout",
     "output_type": "stream",
     "text": [
      "=======Evaluating model=======\n",
      "Overall average KL divergence: 0.5101\n",
      "Overall mean absolute error: 0.0793\n",
      "=======Mobility Agent (num_samples=800)=======\n"
     ]
    },
    {
     "name": "stderr",
     "output_type": "stream",
     "text": [
      "100%|██████████| 1000/1000 [35:54<00:00,  2.15s/it] \n"
     ]
    },
    {
     "name": "stdout",
     "output_type": "stream",
     "text": [
      "=======Evaluating model=======\n",
      "Overall average KL divergence: 0.5462\n",
      "Overall mean absolute error: 0.0713\n",
      "=======Mobility Agent (num_samples=900)=======\n"
     ]
    },
    {
     "name": "stderr",
     "output_type": "stream",
     "text": [
      "100%|██████████| 1000/1000 [36:15<00:00,  2.18s/it] \n"
     ]
    },
    {
     "name": "stdout",
     "output_type": "stream",
     "text": [
      "=======Evaluating model=======\n",
      "Overall average KL divergence: 0.4748\n",
      "Overall mean absolute error: 0.0929\n",
      "=======Mobility Agent (num_samples=1000)=======\n"
     ]
    },
    {
     "name": "stderr",
     "output_type": "stream",
     "text": [
      "100%|██████████| 1000/1000 [37:06<00:00,  2.23s/it] "
     ]
    },
    {
     "name": "stdout",
     "output_type": "stream",
     "text": [
      "=======Evaluating model=======\n",
      "Overall average KL divergence: 0.6999\n",
      "Overall mean absolute error: 0.1082\n"
     ]
    },
    {
     "name": "stderr",
     "output_type": "stream",
     "text": [
      "\n"
     ]
    }
   ],
   "source": [
    "# Change BASEURL and APIKEY in .env to use openai api\n",
    "# l1 = [i*10 for i in range(11)]\n",
    "# l2 = [i*100 for i in range(2,11)]\n",
    "# all_samples = l1 + l2\n",
    "\n",
    "all_samples = [i*100 for i in range(3,11)]\n",
    "max_workers = min(os.cpu_count(), 8) \n",
    "\n",
    "for num_samples in all_samples:\n",
    "    save_path = f\"models/mobility_agent_gpt/mobility_agent_{num_samples}.csv\"\n",
    "    run_experiments(eval_df,max_workers=max_workers,num_samples=num_samples,save_path=save_path)"
   ]
  },
  {
   "cell_type": "markdown",
   "id": "788998b8",
   "metadata": {},
   "source": [
    "### Cambridge refrence predict SF"
   ]
  },
  {
   "cell_type": "code",
   "execution_count": null,
   "id": "62073918",
   "metadata": {},
   "outputs": [
    {
     "data": {
      "text/html": [
       "<div>\n",
       "<style scoped>\n",
       "    .dataframe tbody tr th:only-of-type {\n",
       "        vertical-align: middle;\n",
       "    }\n",
       "\n",
       "    .dataframe tbody tr th {\n",
       "        vertical-align: top;\n",
       "    }\n",
       "\n",
       "    .dataframe thead th {\n",
       "        text-align: right;\n",
       "    }\n",
       "</style>\n",
       "<table border=\"1\" class=\"dataframe\">\n",
       "  <thead>\n",
       "    <tr style=\"text-align: right;\">\n",
       "      <th></th>\n",
       "      <th>person_id</th>\n",
       "      <th>age</th>\n",
       "      <th>gender</th>\n",
       "      <th>employment_status</th>\n",
       "      <th>household_size</th>\n",
       "      <th>household_income</th>\n",
       "      <th>available_vehicles</th>\n",
       "      <th>industry</th>\n",
       "      <th>education</th>\n",
       "      <th>trip_purpose</th>\n",
       "      <th>start_time</th>\n",
       "      <th>primary_mode</th>\n",
       "      <th>duration_minutes</th>\n",
       "      <th>age_group</th>\n",
       "      <th>income_group</th>\n",
       "    </tr>\n",
       "  </thead>\n",
       "  <tbody>\n",
       "    <tr>\n",
       "      <th>0</th>\n",
       "      <td>1008394524663602144</td>\n",
       "      <td>41</td>\n",
       "      <td>male</td>\n",
       "      <td>employed</td>\n",
       "      <td>5</td>\n",
       "      <td>165219</td>\n",
       "      <td>two</td>\n",
       "      <td>naics722511</td>\n",
       "      <td>k_12</td>\n",
       "      <td>work</td>\n",
       "      <td>8</td>\n",
       "      <td>public_transit</td>\n",
       "      <td>40-50</td>\n",
       "      <td>35-44</td>\n",
       "      <td>$150k-$200k</td>\n",
       "    </tr>\n",
       "    <tr>\n",
       "      <th>1</th>\n",
       "      <td>17686081048863139877</td>\n",
       "      <td>57</td>\n",
       "      <td>female</td>\n",
       "      <td>employed</td>\n",
       "      <td>2</td>\n",
       "      <td>195539</td>\n",
       "      <td>one</td>\n",
       "      <td>naics5615</td>\n",
       "      <td>bachelors_degree</td>\n",
       "      <td>eat</td>\n",
       "      <td>11</td>\n",
       "      <td>auto_passenger</td>\n",
       "      <td>10-20</td>\n",
       "      <td>55-64</td>\n",
       "      <td>$150k-$200k</td>\n",
       "    </tr>\n",
       "  </tbody>\n",
       "</table>\n",
       "</div>"
      ],
      "text/plain": [
       "              person_id  age  gender employment_status  household_size  \\\n",
       "0   1008394524663602144   41    male          employed               5   \n",
       "1  17686081048863139877   57  female          employed               2   \n",
       "\n",
       "   household_income available_vehicles     industry         education  \\\n",
       "0            165219                two  naics722511              k_12   \n",
       "1            195539                one    naics5615  bachelors_degree   \n",
       "\n",
       "  trip_purpose  start_time    primary_mode duration_minutes age_group  \\\n",
       "0         work           8  public_transit            40-50     35-44   \n",
       "1          eat          11  auto_passenger            10-20     55-64   \n",
       "\n",
       "  income_group  \n",
       "0  $150k-$200k  \n",
       "1  $150k-$200k  "
      ]
     },
     "execution_count": 1,
     "metadata": {},
     "output_type": "execute_result"
    }
   ],
   "source": [
    "from baseline.data import load_data\n",
    "import random\n",
    "import numpy as np\n",
    "import os\n",
    "# 设置全局随机种子\n",
    "seed = 42\n",
    "random.seed(seed)\n",
    "np.random.seed(seed)\n",
    "os.environ['PYTHONHASHSEED'] = str(seed)  # 确保哈希随机性也被控制\n",
    "\n",
    "# Change eval data to SF\n",
    "eval_file = 'data/eval/replica-sf_trips_eval.csv'\n",
    "eval_df = load_data(eval_file)\n",
    "eval_df.head(2)"
   ]
  },
  {
   "cell_type": "code",
   "execution_count": null,
   "id": "b2813f12",
   "metadata": {},
   "outputs": [],
   "source": [
    "max_workers = 4\n",
    "num_samples = 1000\n",
    "save_path = f\"models/mobility_agent/mobility_agent_gpt_{num_samples}.csv\"\n",
    "# change city to SF\n",
    "run_experiments(eval_df,max_workers=max_workers,num_samples=num_samples,save_path=save_path,city=\"San Francisco,CA\")"
   ]
  },
  {
   "cell_type": "markdown",
   "id": "bc7f6e76",
   "metadata": {},
   "source": [
    "### SF refrence predict SF"
   ]
  },
  {
   "cell_type": "code",
   "execution_count": 4,
   "id": "cffab656",
   "metadata": {},
   "outputs": [
    {
     "data": {
      "text/html": [
       "<div>\n",
       "<style scoped>\n",
       "    .dataframe tbody tr th:only-of-type {\n",
       "        vertical-align: middle;\n",
       "    }\n",
       "\n",
       "    .dataframe tbody tr th {\n",
       "        vertical-align: top;\n",
       "    }\n",
       "\n",
       "    .dataframe thead th {\n",
       "        text-align: right;\n",
       "    }\n",
       "</style>\n",
       "<table border=\"1\" class=\"dataframe\">\n",
       "  <thead>\n",
       "    <tr style=\"text-align: right;\">\n",
       "      <th></th>\n",
       "      <th>person_id</th>\n",
       "      <th>age</th>\n",
       "      <th>gender</th>\n",
       "      <th>employment_status</th>\n",
       "      <th>household_size</th>\n",
       "      <th>household_income</th>\n",
       "      <th>available_vehicles</th>\n",
       "      <th>industry</th>\n",
       "      <th>education</th>\n",
       "      <th>trip_purpose</th>\n",
       "      <th>start_time</th>\n",
       "      <th>primary_mode</th>\n",
       "      <th>duration_minutes</th>\n",
       "      <th>age_group</th>\n",
       "      <th>income_group</th>\n",
       "    </tr>\n",
       "  </thead>\n",
       "  <tbody>\n",
       "    <tr>\n",
       "      <th>0</th>\n",
       "      <td>1008394524663602144</td>\n",
       "      <td>41</td>\n",
       "      <td>male</td>\n",
       "      <td>employed</td>\n",
       "      <td>5</td>\n",
       "      <td>165219</td>\n",
       "      <td>two</td>\n",
       "      <td>naics722511</td>\n",
       "      <td>k_12</td>\n",
       "      <td>work</td>\n",
       "      <td>8</td>\n",
       "      <td>public_transit</td>\n",
       "      <td>40-50</td>\n",
       "      <td>35-44</td>\n",
       "      <td>$150k-$200k</td>\n",
       "    </tr>\n",
       "    <tr>\n",
       "      <th>1</th>\n",
       "      <td>17686081048863139877</td>\n",
       "      <td>57</td>\n",
       "      <td>female</td>\n",
       "      <td>employed</td>\n",
       "      <td>2</td>\n",
       "      <td>195539</td>\n",
       "      <td>one</td>\n",
       "      <td>naics5615</td>\n",
       "      <td>bachelors_degree</td>\n",
       "      <td>eat</td>\n",
       "      <td>11</td>\n",
       "      <td>auto_passenger</td>\n",
       "      <td>10-20</td>\n",
       "      <td>55-64</td>\n",
       "      <td>$150k-$200k</td>\n",
       "    </tr>\n",
       "  </tbody>\n",
       "</table>\n",
       "</div>"
      ],
      "text/plain": [
       "              person_id  age  gender employment_status  household_size  \\\n",
       "0   1008394524663602144   41    male          employed               5   \n",
       "1  17686081048863139877   57  female          employed               2   \n",
       "\n",
       "   household_income available_vehicles     industry         education  \\\n",
       "0            165219                two  naics722511              k_12   \n",
       "1            195539                one    naics5615  bachelors_degree   \n",
       "\n",
       "  trip_purpose  start_time    primary_mode duration_minutes age_group  \\\n",
       "0         work           8  public_transit            40-50     35-44   \n",
       "1          eat          11  auto_passenger            10-20     55-64   \n",
       "\n",
       "  income_group  \n",
       "0  $150k-$200k  \n",
       "1  $150k-$200k  "
      ]
     },
     "execution_count": 4,
     "metadata": {},
     "output_type": "execute_result"
    }
   ],
   "source": [
    "from baseline.data import load_data\n",
    "ref_file = 'data/reference/replica-sf_trips.csv'\n",
    "eval_file = 'data/eval/replica-sf_trips_eval.csv'\n",
    "eval_df = load_data(eval_file)\n",
    "eval_df.head(2)"
   ]
  },
  {
   "cell_type": "code",
   "execution_count": null,
   "id": "200c2d36",
   "metadata": {},
   "outputs": [
    {
     "name": "stdout",
     "output_type": "stream",
     "text": [
      "=======Mobility Agent (num_samples=1000)=======\n"
     ]
    },
    {
     "name": "stderr",
     "output_type": "stream",
     "text": [
      " 98%|█████████▊| 985/1000 [3:22:57<01:42,  6.80s/it]  "
     ]
    },
    {
     "name": "stdout",
     "output_type": "stream",
     "text": [
      "Error processing row 985: list index out of range\n"
     ]
    },
    {
     "name": "stderr",
     "output_type": "stream",
     "text": [
      "100%|██████████| 1000/1000 [3:25:28<00:00, 12.33s/it]"
     ]
    },
    {
     "name": "stdout",
     "output_type": "stream",
     "text": [
      "=======Evaluating model=======\n",
      "Overall average KL divergence: 0.7991\n",
      "Overall mean absolute error: 0.0632\n"
     ]
    },
    {
     "name": "stderr",
     "output_type": "stream",
     "text": [
      "\n"
     ]
    }
   ],
   "source": [
    "# Change REFERENCE_CITY and TRIP_FILE in .env to change the reference data\n",
    "\n",
    "max_workers = 4\n",
    "num_samples = 100\n",
    "save_path = f\"models/mobility_agent/mobility_agent_sf_refsf_{num_samples}.csv\"\n",
    "# change city to SF\n",
    "run_experiments(eval_df,max_workers=max_workers,num_samples=num_samples,save_path=save_path,city=\"San Francisco,CA\")"
   ]
  },
  {
   "cell_type": "code",
   "execution_count": null,
   "id": "8098b83b",
   "metadata": {},
   "outputs": [],
   "source": []
  }
 ],
 "metadata": {
  "kernelspec": {
   "display_name": ".venv",
   "language": "python",
   "name": "python3"
  },
  "language_info": {
   "codemirror_mode": {
    "name": "ipython",
    "version": 3
   },
   "file_extension": ".py",
   "mimetype": "text/x-python",
   "name": "python",
   "nbconvert_exporter": "python",
   "pygments_lexer": "ipython3",
   "version": "3.13.3"
  }
 },
 "nbformat": 4,
 "nbformat_minor": 5
}
