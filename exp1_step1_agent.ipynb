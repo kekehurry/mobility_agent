{
 "cells": [
  {
   "cell_type": "markdown",
   "id": "3c8cb97a",
   "metadata": {},
   "source": [
    "# Mode Prediction Experiment\n",
    "\n",
    "This experiment simulate the mode choice of 1000 agents in Cambridge and compare them with real data"
   ]
  },
  {
   "cell_type": "markdown",
   "id": "a032b370",
   "metadata": {},
   "source": [
    "###  Run experiments"
   ]
  },
  {
   "cell_type": "code",
   "execution_count": null,
   "id": "740dd394",
   "metadata": {},
   "outputs": [],
   "source": [
    "import json\n",
    "import os\n",
    "import random\n",
    "from tqdm import tqdm\n",
    "import pandas as pd\n",
    "import concurrent.futures\n",
    "from functools import partial\n",
    "\n",
    "from mobility_agent.agent import MobilityAgent\n",
    "from baseline.eval import cal_group_kl_divergence\n",
    "\n",
    "def process_row(row, num_samples, profile_columns,city,reference_city,reference_file,init_memory):\n",
    "    try:\n",
    "        idx = row.name\n",
    "        profile = row[profile_columns].to_dict()\n",
    "        desire = row['trip_purpose']\n",
    "        time = row['start_time']\n",
    "        \n",
    "        agent = MobilityAgent(profile=json.dumps(profile), \n",
    "                              sample_num=num_samples,city=city,\n",
    "                              reference_city=reference_city,\n",
    "                              reference_file=reference_file)\n",
    "        agent.working_memory = [init_memory]\n",
    "        \n",
    "        if num_samples == 0:\n",
    "            mode_preference = agent.get_mode_prefernce(desire=desire, time=time, use_reference=False)\n",
    "        else:\n",
    "            mode_preference = agent.get_mode_prefernce(desire=desire, time=time, use_reference=True)\n",
    "        \n",
    "        choice_weights = mode_preference['choice_weights']\n",
    "        modes = [choice['primary_mode'] for choice in choice_weights]\n",
    "        weights = [choice['weight'] for choice in choice_weights]\n",
    "        selected_mode_idx = random.choices(range(len(modes)), weights=weights, k=1)[0]\n",
    "        selected_mode = choice_weights[selected_mode_idx]\n",
    "        \n",
    "        return {\n",
    "            'idx': idx,\n",
    "            'predicted_mode': selected_mode['primary_mode'],\n",
    "            'predicted_duration': selected_mode['duration_minutes'],\n",
    "            'selection_reason': json.dumps(mode_preference['think']),\n",
    "            'choice_weights': json.dumps(choice_weights)\n",
    "        }\n",
    "    except Exception as e:\n",
    "        print(f\"Error processing row {row.name}: {e}\")\n",
    "        return None\n",
    "\n",
    "def run_experiments(eval_df,max_workers,num_samples,save_path,city='Cambridge,MA',reference_city='Cambridge,MA',reference_file='data/reference/replica-cambridge_trips.csv',init_memory='Today is a normal weekday'):\n",
    "    # Set up parameters\n",
    "    profile_columns = ['age_group', 'income_group', 'employment_status', 'household_size', 'available_vehicles', 'education']\n",
    "    os.makedirs(os.path.dirname(save_path), exist_ok=True)\n",
    "\n",
    "    print(f\"=======Mobility Agent (num_samples={num_samples})=======\")\n",
    "\n",
    "    # Create a partial function with fixed parameters\n",
    "    process_row_partial = partial(process_row, num_samples=num_samples, profile_columns=profile_columns,city=city,reference_city=reference_city,reference_file=reference_file,init_memory=init_memory)\n",
    "\n",
    "    # Process rows in parallel\n",
    "    results = []\n",
    "    with concurrent.futures.ThreadPoolExecutor(max_workers=max_workers) as executor:\n",
    "        # Submit all jobs\n",
    "        future_to_idx = {executor.submit(process_row_partial, row): idx \n",
    "                        for idx, row in eval_df.iterrows()}\n",
    "        \n",
    "        # Process results as they complete with a progress bar\n",
    "        for future in tqdm(concurrent.futures.as_completed(future_to_idx), total=len(eval_df)):\n",
    "            result = future.result()\n",
    "            if result:\n",
    "                results.append(result)\n",
    "                \n",
    "            # Save intermediate results every 100 completed rows\n",
    "            if len(results) % 100 == 0:\n",
    "                # Update the dataframe with results so far\n",
    "                temp_df = eval_df.copy()\n",
    "                for res in results:\n",
    "                    idx = res['idx']\n",
    "                    temp_df.loc[idx, \"predicted_mode\"] = res['predicted_mode']\n",
    "                    temp_df.loc[idx, \"predicted_duration\"] = res['predicted_duration']\n",
    "                    temp_df.loc[idx, \"selection_reason\"] = res['selection_reason']\n",
    "                    temp_df.loc[idx, \"choice_weights\"] = res['choice_weights']\n",
    "                temp_df.to_csv(save_path)\n",
    "\n",
    "    # Update final dataframe with all results\n",
    "    for res in results:\n",
    "        idx = res['idx']\n",
    "        eval_df.loc[idx, \"predicted_mode\"] = res['predicted_mode']\n",
    "        eval_df.loc[idx, \"predicted_duration\"] = res['predicted_duration']\n",
    "        eval_df.loc[idx, \"selection_reason\"] = res['selection_reason']\n",
    "        eval_df.loc[idx, \"choice_weights\"] = res['choice_weights']\n",
    "\n",
    "    # Save final results\n",
    "    eval_df.to_csv(save_path)\n",
    "\n",
    "    print(f\"=======Evaluating model=======\")\n",
    "    result_df = eval_df.copy()\n",
    "    kl_df, overall_kl, overall_mae = cal_group_kl_divergence(result_df=result_df)\n",
    "    print(f\"Overall average KL divergence: {overall_kl:.4f}\")\n",
    "    print(f\"Overall mean absolute error: {overall_mae:.4f}\")"
   ]
  },
  {
   "cell_type": "markdown",
   "id": "3ac8a59c",
   "metadata": {},
   "source": [
    "### Get Results from local LLM"
   ]
  },
  {
   "cell_type": "code",
   "execution_count": null,
   "id": "586b0317",
   "metadata": {},
   "outputs": [],
   "source": [
    "# Change BASEURL and APIKEY in .env to use ollama\n",
    "from baseline.data import load_data\n",
    "import os\n",
    "import shutil\n",
    "\n",
    "# clear cache\n",
    "cache_graph_folder = \"cache/graph\"\n",
    "if os.path.exists(cache_graph_folder):\n",
    "    shutil.rmtree(cache_graph_folder)\n",
    "\n",
    "eval_file = 'data/eval/replica-cambridge_trips_eval.csv'\n",
    "eval_df = load_data(eval_file)\n",
    "eval_df.head(2)"
   ]
  },
  {
   "cell_type": "code",
   "execution_count": null,
   "id": "750feba8",
   "metadata": {},
   "outputs": [],
   "source": [
    "\n",
    "l1 = [i*10 for i in range(11)]\n",
    "l2 = [i*100 for i in range(2,11)]\n",
    "all_samples = l1 + l2\n",
    "max_workers = min(os.cpu_count(), 8) \n",
    "\n",
    "for num_samples in all_samples:\n",
    "    save_path = f\"results/cambridge/mobility_agent_{num_samples}.csv\"\n",
    "    run_experiments(eval_df,max_workers=max_workers,num_samples=num_samples,save_path=save_path)"
   ]
  },
  {
   "cell_type": "markdown",
   "id": "788998b8",
   "metadata": {},
   "source": [
    "### Cambridge refrence predict SF"
   ]
  },
  {
   "cell_type": "code",
   "execution_count": null,
   "id": "62073918",
   "metadata": {},
   "outputs": [],
   "source": [
    "from baseline.data import load_data\n",
    "import os\n",
    "import shutil\n",
    "\n",
    "# clear cache\n",
    "cache_graph_folder = \"cache/graph\"\n",
    "if os.path.exists(cache_graph_folder):\n",
    "    shutil.rmtree(cache_graph_folder)\n",
    "\n",
    "# Change eval data to SF\n",
    "eval_file = 'data/eval/replica-sf_trips_eval.csv'\n",
    "eval_df = load_data(eval_file)\n",
    "eval_df.head(2)"
   ]
  },
  {
   "cell_type": "code",
   "execution_count": null,
   "id": "b2813f12",
   "metadata": {},
   "outputs": [],
   "source": [
    "max_workers = 4\n",
    "num_samples = 0\n",
    "city=\"San Francisco,CA\"\n",
    "reference_city=\"Cambridge,MA\"\n",
    "reference_file = 'data/reference/replica-cambridge_trips.csv'\n",
    "save_path = f\"results/sanfransico/mobility_agent_sf_{num_samples}.csv\"\n",
    "# change city to SF\n",
    "run_experiments(eval_df,max_workers=max_workers,\n",
    "                num_samples=num_samples,     \n",
    "                save_path=save_path,\n",
    "                city=city,\n",
    "                reference_city=reference_city,\n",
    "                reference_file=reference_file,\n",
    "                )"
   ]
  },
  {
   "cell_type": "code",
   "execution_count": null,
   "id": "26438607",
   "metadata": {},
   "outputs": [],
   "source": [
    "max_workers = 4\n",
    "num_samples = 50\n",
    "city=\"San Francisco,CA\"\n",
    "reference_city=\"Cambridge,MA\"\n",
    "reference_file = 'data/reference/replica-cambridge_trips.csv'\n",
    "save_path = f\"results/sanfransico/mobility_agent_sf_{num_samples}.csv\"\n",
    "# change city to SF\n",
    "run_experiments(eval_df,max_workers=max_workers,\n",
    "                num_samples=num_samples,     \n",
    "                save_path=save_path,\n",
    "                city=city,\n",
    "                reference_city=reference_city,\n",
    "                reference_file=reference_file,\n",
    "                )"
   ]
  },
  {
   "cell_type": "markdown",
   "id": "bc7f6e76",
   "metadata": {},
   "source": [
    "### SF refrence predict SF"
   ]
  },
  {
   "cell_type": "code",
   "execution_count": null,
   "id": "cffab656",
   "metadata": {},
   "outputs": [],
   "source": [
    "from baseline.data import load_data\n",
    "import os\n",
    "import shutil\n",
    "\n",
    "\n",
    "# clear cache\n",
    "cache_graph_folder = \"cache/graph\"\n",
    "if os.path.exists(cache_graph_folder):\n",
    "    shutil.rmtree(cache_graph_folder)\n",
    "\n",
    "eval_file = 'data/eval/replica-sf_trips_eval.csv'\n",
    "eval_df = load_data(eval_file)\n",
    "eval_df.head(2)\n",
    "\n"
   ]
  },
  {
   "cell_type": "code",
   "execution_count": null,
   "id": "200c2d36",
   "metadata": {},
   "outputs": [],
   "source": [
    "max_workers = 4\n",
    "num_samples = 50\n",
    "city=\"San Francisco,CA\"\n",
    "reference_city=\"San Francisco,CA\"\n",
    "reference_file = 'data/reference/replica-sf_trips.csv'\n",
    "save_path = f\"results/sanfransico/mobility_agent_sf_refsf_{num_samples}.csv\"\n",
    "# change city to SF\n",
    "run_experiments(eval_df,max_workers=max_workers,\n",
    "                num_samples=num_samples,     \n",
    "                save_path=save_path,\n",
    "                city=city,\n",
    "                reference_city=reference_city,\n",
    "                reference_file=reference_file,\n",
    "                )"
   ]
  },
  {
   "cell_type": "markdown",
   "id": "d2ede95c",
   "metadata": {},
   "source": [
    "### SF refrence predict Cambridge"
   ]
  },
  {
   "cell_type": "code",
   "execution_count": null,
   "id": "b99bffe5",
   "metadata": {},
   "outputs": [],
   "source": [
    "from baseline.data import load_data\n",
    "import os\n",
    "import shutil\n",
    "\n",
    "\n",
    "# clear cache\n",
    "cache_graph_folder = \"cache/graph\"\n",
    "if os.path.exists(cache_graph_folder):\n",
    "    shutil.rmtree(cache_graph_folder)\n",
    "\n",
    "eval_file = 'data/eval/replica-cambridge_trips_eval.csv'\n",
    "eval_df = load_data(eval_file)\n",
    "eval_df.head(2)\n",
    "\n"
   ]
  },
  {
   "cell_type": "code",
   "execution_count": null,
   "id": "861b9f7a",
   "metadata": {},
   "outputs": [],
   "source": [
    "max_workers = 4\n",
    "num_samples = 50\n",
    "city=\"Cambridge,MA\"\n",
    "reference_city=\"San Francisco,CA\"\n",
    "reference_file = 'data/reference/replica-sf_trips.csv'\n",
    "save_path = f\"results/cambridge/mobility_agent_refsf_{num_samples}.csv\"\n",
    "# change city to SF\n",
    "run_experiments(eval_df,max_workers=max_workers,\n",
    "                num_samples=num_samples,     \n",
    "                save_path=save_path,\n",
    "                city=city,\n",
    "                reference_city=reference_city,\n",
    "                reference_file=reference_file,\n",
    "                )"
   ]
  }
 ],
 "metadata": {
  "kernelspec": {
   "display_name": ".venv",
   "language": "python",
   "name": "python3"
  },
  "language_info": {
   "codemirror_mode": {
    "name": "ipython",
    "version": 3
   },
   "file_extension": ".py",
   "mimetype": "text/x-python",
   "name": "python",
   "nbconvert_exporter": "python",
   "pygments_lexer": "ipython3",
   "version": "3.13.3"
  }
 },
 "nbformat": 4,
 "nbformat_minor": 5
}
