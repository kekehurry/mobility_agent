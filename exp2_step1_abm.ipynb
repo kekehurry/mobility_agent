{
 "cells": [
  {
   "cell_type": "markdown",
   "id": "e238d578",
   "metadata": {},
   "source": [
    "# ABM experiments\n",
    "\n",
    "This experiment simulate 1000 agents in Cambridge for a whole day and compare them with real data"
   ]
  },
  {
   "cell_type": "code",
   "execution_count": null,
   "id": "fedfb427",
   "metadata": {},
   "outputs": [],
   "source": [
    "from mobility_agent.agent import MobilityAgent\n",
    "from tqdm import tqdm\n",
    "\n",
    "def create_agent(i, city, save_dir, use_reference=True):\n",
    "    try:\n",
    "        agent = MobilityAgent(city=city, save_dir=save_dir)\n",
    "        agent.get_time_schedule(use_reference=use_reference)\n",
    "        return True\n",
    "    except Exception as e:\n",
    "        print(f\"Error processing agent {i}: {e}\")\n",
    "        return False"
   ]
  },
  {
   "cell_type": "markdown",
   "id": "3a02629f",
   "metadata": {},
   "source": [
    "### With Preference Chain"
   ]
  },
  {
   "cell_type": "code",
   "execution_count": null,
   "id": "fd31b7e1",
   "metadata": {},
   "outputs": [],
   "source": [
    "import multiprocessing as mp\n",
    "from functools import partial\n",
    "\n",
    "city = \"Cambridge,MA\"\n",
    "save_dir = \"agents/cambridge\"\n",
    "use_reference = True\n",
    "num_processes = 5\n",
    "\n",
    "# Create a partial function with fixed parameters\n",
    "process_agent = partial(create_agent, city=city, save_dir=save_dir, use_reference=use_reference)\n",
    "\n",
    "# Create a pool of workers\n",
    "with mp.Pool(processes=num_processes) as pool:\n",
    "    # Map the process_agent function to each index and track with tqdm\n",
    "    results = list(tqdm(pool.imap(process_agent, range(1000)), total=1000))\n",
    "    \n",
    "# Print summary\n",
    "successful = sum(results)\n",
    "print(f\"Successfully processed {successful} out of 1000 agents\")"
   ]
  },
  {
   "cell_type": "code",
   "execution_count": 7,
   "id": "5d44b28a",
   "metadata": {},
   "outputs": [
    {
     "name": "stdout",
     "output_type": "stream",
     "text": [
      "1001\n"
     ]
    },
    {
     "data": {
      "text/html": [
       "<div>\n",
       "<style scoped>\n",
       "    .dataframe tbody tr th:only-of-type {\n",
       "        vertical-align: middle;\n",
       "    }\n",
       "\n",
       "    .dataframe tbody tr th {\n",
       "        vertical-align: top;\n",
       "    }\n",
       "\n",
       "    .dataframe thead th {\n",
       "        text-align: right;\n",
       "    }\n",
       "</style>\n",
       "<table border=\"1\" class=\"dataframe\">\n",
       "  <thead>\n",
       "    <tr style=\"text-align: right;\">\n",
       "      <th></th>\n",
       "      <th>profile</th>\n",
       "      <th>city</th>\n",
       "      <th>reference_city</th>\n",
       "      <th>schedule</th>\n",
       "      <th>memory_locations</th>\n",
       "      <th>working_memory</th>\n",
       "    </tr>\n",
       "  </thead>\n",
       "  <tbody>\n",
       "    <tr>\n",
       "      <th>0</th>\n",
       "      <td>\"{\\\"name\\\": \\\"Patricia Wood\\\", \\\"city\\\": \\\"Cam...</td>\n",
       "      <td>\"Cambridge,MA\"</td>\n",
       "      <td>\"Cambridge,MA\"</td>\n",
       "      <td>[{\"start_time\": \"07:15\", \"desire\": \"work\", \"tr...</td>\n",
       "      <td>{\"home\": {\"name\": \"home\", \"coordinates\": [42.3...</td>\n",
       "      <td>[\"Today is a normal weekday\", \"On 07:15, I wan...</td>\n",
       "    </tr>\n",
       "  </tbody>\n",
       "</table>\n",
       "</div>"
      ],
      "text/plain": [
       "                                             profile            city  \\\n",
       "0  \"{\\\"name\\\": \\\"Patricia Wood\\\", \\\"city\\\": \\\"Cam...  \"Cambridge,MA\"   \n",
       "\n",
       "   reference_city                                           schedule  \\\n",
       "0  \"Cambridge,MA\"  [{\"start_time\": \"07:15\", \"desire\": \"work\", \"tr...   \n",
       "\n",
       "                                    memory_locations  \\\n",
       "0  {\"home\": {\"name\": \"home\", \"coordinates\": [42.3...   \n",
       "\n",
       "                                      working_memory  \n",
       "0  [\"Today is a normal weekday\", \"On 07:15, I wan...  "
      ]
     },
     "execution_count": 7,
     "metadata": {},
     "output_type": "execute_result"
    }
   ],
   "source": [
    "import os\n",
    "import json \n",
    "import pandas as pd\n",
    "\n",
    "data_folder = 'agents/cambridge'\n",
    "data_files = [os.path.join(data_folder,file) for file in os.listdir(data_folder) if file.endswith('.json')]\n",
    "\n",
    "agents_list = []\n",
    "for idx,file in enumerate(data_files):\n",
    "    with open(file,'r') as f:\n",
    "        agent = json.load(f)\n",
    "    # agent['profile'] = json.loads(agent['profile'])\n",
    "    agent = {k:json.dumps(v) for k,v in agent.items()}\n",
    "    agents_list.append(agent)\n",
    "\n",
    "agent_df = pd.DataFrame(agents_list)\n",
    "agent_df.to_csv('agents/agents_cambridge.csv')\n",
    "print(len(agent_df))\n",
    "agent_df.head(1)"
   ]
  },
  {
   "cell_type": "markdown",
   "id": "5355b4f7",
   "metadata": {},
   "source": [
    "### Without Preference Chain"
   ]
  },
  {
   "cell_type": "code",
   "execution_count": null,
   "id": "8bd7b66b",
   "metadata": {},
   "outputs": [],
   "source": [
    "import multiprocessing as mp\n",
    "from functools import partial\n",
    "\n",
    "city = \"Cambridge,MA\"\n",
    "save_dir = \"agents/cambridge_noref\"\n",
    "use_reference = False\n",
    "num_processes = 5\n",
    "\n",
    "# Create a partial function with fixed parameters\n",
    "process_agent = partial(create_agent, city=city, save_dir=save_dir, use_reference=use_reference)\n",
    "\n",
    "# Create a pool of workers\n",
    "with mp.Pool(processes=num_processes) as pool:\n",
    "    # Map the process_agent function to each index and track with tqdm\n",
    "    results = list(tqdm(pool.imap(process_agent, range(1000)), total=1000))\n",
    "    \n",
    "# Print summary\n",
    "successful = sum(results)\n",
    "print(f\"Successfully processed {successful} out of 1000 agents\")"
   ]
  },
  {
   "cell_type": "code",
   "execution_count": 4,
   "id": "550c028b",
   "metadata": {},
   "outputs": [
    {
     "name": "stdout",
     "output_type": "stream",
     "text": [
      "1000\n"
     ]
    },
    {
     "data": {
      "text/html": [
       "<div>\n",
       "<style scoped>\n",
       "    .dataframe tbody tr th:only-of-type {\n",
       "        vertical-align: middle;\n",
       "    }\n",
       "\n",
       "    .dataframe tbody tr th {\n",
       "        vertical-align: top;\n",
       "    }\n",
       "\n",
       "    .dataframe thead th {\n",
       "        text-align: right;\n",
       "    }\n",
       "</style>\n",
       "<table border=\"1\" class=\"dataframe\">\n",
       "  <thead>\n",
       "    <tr style=\"text-align: right;\">\n",
       "      <th></th>\n",
       "      <th>profile</th>\n",
       "      <th>city</th>\n",
       "      <th>reference_city</th>\n",
       "      <th>schedule</th>\n",
       "      <th>memory_locations</th>\n",
       "      <th>working_memory</th>\n",
       "    </tr>\n",
       "  </thead>\n",
       "  <tbody>\n",
       "    <tr>\n",
       "      <th>0</th>\n",
       "      <td>\"{\\\"name\\\": \\\"Andrew Rice\\\", \\\"city\\\": \\\"Cambr...</td>\n",
       "      <td>\"Cambridge,MA\"</td>\n",
       "      <td>\"Cambridge,MA\"</td>\n",
       "      <td>[{\"start_time\": \"07:00\", \"desire\": \"other_acti...</td>\n",
       "      <td>{\"home\": {\"name\": \"home\", \"coordinates\": [42.3...</td>\n",
       "      <td>[\"Today is a normal weekday\", \"On 07:00, I wan...</td>\n",
       "    </tr>\n",
       "  </tbody>\n",
       "</table>\n",
       "</div>"
      ],
      "text/plain": [
       "                                             profile            city  \\\n",
       "0  \"{\\\"name\\\": \\\"Andrew Rice\\\", \\\"city\\\": \\\"Cambr...  \"Cambridge,MA\"   \n",
       "\n",
       "   reference_city                                           schedule  \\\n",
       "0  \"Cambridge,MA\"  [{\"start_time\": \"07:00\", \"desire\": \"other_acti...   \n",
       "\n",
       "                                    memory_locations  \\\n",
       "0  {\"home\": {\"name\": \"home\", \"coordinates\": [42.3...   \n",
       "\n",
       "                                      working_memory  \n",
       "0  [\"Today is a normal weekday\", \"On 07:00, I wan...  "
      ]
     },
     "execution_count": 4,
     "metadata": {},
     "output_type": "execute_result"
    }
   ],
   "source": [
    "import os\n",
    "import json \n",
    "import pandas as pd\n",
    "\n",
    "data_folder = \"agents/cambridge_noref\"\n",
    "data_files = [os.path.join(data_folder,file) for file in os.listdir(data_folder) if file.endswith('.json')]\n",
    "\n",
    "agents_list = []\n",
    "for idx,file in enumerate(data_files):\n",
    "    with open(file,'r') as f:\n",
    "        agent = json.load(f)\n",
    "    agent = {k:json.dumps(v) for k,v in agent.items()}\n",
    "    agents_list.append(agent)\n",
    "\n",
    "agent_df = pd.DataFrame(agents_list)\n",
    "agent_df.to_csv('agents/agents_cambridge_noref.csv')\n",
    "print(len(agent_df))\n",
    "agent_df.head(1)"
   ]
  },
  {
   "cell_type": "code",
   "execution_count": null,
   "id": "118802dc",
   "metadata": {},
   "outputs": [],
   "source": []
  }
 ],
 "metadata": {
  "kernelspec": {
   "display_name": ".venv",
   "language": "python",
   "name": "python3"
  },
  "language_info": {
   "codemirror_mode": {
    "name": "ipython",
    "version": 3
   },
   "file_extension": ".py",
   "mimetype": "text/x-python",
   "name": "python",
   "nbconvert_exporter": "python",
   "pygments_lexer": "ipython3",
   "version": "3.13.3"
  }
 },
 "nbformat": 4,
 "nbformat_minor": 5
}
