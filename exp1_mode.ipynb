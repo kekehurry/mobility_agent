{
 "cells": [
  {
   "cell_type": "markdown",
   "id": "3c8cb97a",
   "metadata": {},
   "source": [
    "# Mode Prediction Experiment\n",
    "\n",
    "This experiment simulate the mode choice of 1000 agents in Cambridge and compare them with real data"
   ]
  },
  {
   "cell_type": "markdown",
   "id": "4f3fb7ec",
   "metadata": {},
   "source": [
    "### Get Evaluation Data"
   ]
  },
  {
   "cell_type": "code",
   "execution_count": null,
   "id": "8c4fbeb2",
   "metadata": {},
   "outputs": [],
   "source": []
  },
  {
   "cell_type": "markdown",
   "id": "a032b370",
   "metadata": {},
   "source": [
    "### Mode Prediction 1: A normal week day"
   ]
  },
  {
   "cell_type": "markdown",
   "id": "89c66993",
   "metadata": {},
   "source": [
    "### Mode Prediction 2: Chaning Conditions"
   ]
  },
  {
   "cell_type": "markdown",
   "id": "78e11907",
   "metadata": {},
   "source": [
    "### Comparision of Mode Choice Distribution"
   ]
  },
  {
   "cell_type": "markdown",
   "id": "56ae8036",
   "metadata": {},
   "source": [
    "### Comparision of Duration Choice Distribution"
   ]
  }
 ],
 "metadata": {
  "kernelspec": {
   "display_name": ".venv",
   "language": "python",
   "name": "python3"
  },
  "language_info": {
   "codemirror_mode": {
    "name": "ipython",
    "version": 3
   },
   "file_extension": ".py",
   "mimetype": "text/x-python",
   "name": "python",
   "nbconvert_exporter": "python",
   "pygments_lexer": "ipython3",
   "version": "3.13.3"
  }
 },
 "nbformat": 4,
 "nbformat_minor": 5
}
