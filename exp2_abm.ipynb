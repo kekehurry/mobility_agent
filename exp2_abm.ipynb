{
 "cells": [
  {
   "cell_type": "markdown",
   "id": "e238d578",
   "metadata": {},
   "source": [
    "# ABM experiments\n",
    "\n",
    "This experiment simulate 1000 agents in Cambridge for a whole day and compare them with real data"
   ]
  },
  {
   "cell_type": "code",
   "execution_count": null,
   "id": "fd31b7e1",
   "metadata": {},
   "outputs": [],
   "source": [
    "from mobility_agent.agent import MobilityAgent\n",
    "from tqdm import tqdm\n",
    "\n",
    "# the simulation results are saved to 'data/agents'\n",
    "for i in tqdm(range(1000)):\n",
    "    try:\n",
    "        agent = MobilityAgent(city=\"Cambridge,MA\")\n",
    "        agent.get_time_schedule()\n",
    "    except Exception as e:\n",
    "        print(e)\n",
    "        pass"
   ]
  },
  {
   "cell_type": "markdown",
   "id": "cfa5a94f",
   "metadata": {},
   "source": [
    "# Comparision of POI selection"
   ]
  },
  {
   "cell_type": "markdown",
   "id": "c243ee82",
   "metadata": {},
   "source": [
    "# Comparision of Road Traffic"
   ]
  }
 ],
 "metadata": {
  "kernelspec": {
   "display_name": ".venv",
   "language": "python",
   "name": "python3"
  },
  "language_info": {
   "name": "python",
   "version": "3.13.3"
  }
 },
 "nbformat": 4,
 "nbformat_minor": 5
}
