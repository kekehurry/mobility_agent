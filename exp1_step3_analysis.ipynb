{
 "cells": [
  {
   "cell_type": "code",
   "execution_count": 3,
   "id": "6ed00d88",
   "metadata": {},
   "outputs": [
    {
     "name": "stdout",
     "output_type": "stream",
     "text": [
      "=======Evaluating model=======\n",
      "Top 3 accuracy: 0.4680\n",
      "Overall average KL divergence: 1.3639\n",
      "Overall mean absolute error: 0.1659\n"
     ]
    }
   ],
   "source": [
    "import pandas as pd\n",
    "from baseline.eval import cal_group_kl_divergence,cal_topk_acc\n",
    "\n",
    "result_file = \"models/mobility_agent/mobility_agent_0.csv\"\n",
    "result_df = pd.read_csv(result_file)\n",
    "\n",
    "print(f\"=======Evaluating model=======\")\n",
    "k = 3\n",
    "topk_accuracies = cal_topk_acc(result_df=result_df,k=k)\n",
    "kl_df, overall_kl,overall_mae = cal_group_kl_divergence(result_df=result_df)\n",
    "print(f\"Top {k} accuracy: { topk_accuracies['average']:.4f}\")\n",
    "print(f\"Overall average KL divergence: {overall_kl:.4f}\")\n",
    "print(f\"Overall mean absolute error: {overall_mae:.4f}\")"
   ]
  },
  {
   "cell_type": "code",
   "execution_count": 4,
   "id": "0078a284",
   "metadata": {},
   "outputs": [
    {
     "name": "stdout",
     "output_type": "stream",
     "text": [
      "=======Evaluating model=======\n",
      "Top 3 accuracy: 0.7855\n",
      "Overall average KL divergence: 0.5481\n",
      "Overall mean absolute error: 0.0779\n"
     ]
    }
   ],
   "source": [
    "result_file = \"models/mobility_agent/mobility_agent_1000.csv\"\n",
    "result_df = pd.read_csv(result_file)\n",
    "\n",
    "print(f\"=======Evaluating model=======\")\n",
    "k = 3\n",
    "topk_accuracies = cal_topk_acc(result_df=result_df,k=k)\n",
    "kl_df, overall_kl,overall_mae = cal_group_kl_divergence(result_df=result_df)\n",
    "print(f\"Top {k} accuracy: { topk_accuracies['average']:.4f}\")\n",
    "print(f\"Overall average KL divergence: {overall_kl:.4f}\")\n",
    "print(f\"Overall mean absolute error: {overall_mae:.4f}\")"
   ]
  },
  {
   "cell_type": "code",
   "execution_count": 5,
   "id": "d938092d",
   "metadata": {},
   "outputs": [
    {
     "name": "stdout",
     "output_type": "stream",
     "text": [
      "=======Evaluating model=======\n",
      "Top 3 accuracy: 0.5340\n",
      "Overall average KL divergence: 1.0451\n",
      "Overall mean absolute error: 0.1306\n"
     ]
    }
   ],
   "source": [
    "import pandas as pd\n",
    "from baseline.eval import cal_group_kl_divergence,cal_topk_acc\n",
    "\n",
    "result_file = \"models/mobility_agent/mobility_agent_sf_0.csv\"\n",
    "result_df = pd.read_csv(result_file)\n",
    "\n",
    "print(f\"=======Evaluating model=======\")\n",
    "k = 3\n",
    "topk_accuracies = cal_topk_acc(result_df=result_df,k=k)\n",
    "kl_df, overall_kl,overall_mae = cal_group_kl_divergence(result_df=result_df)\n",
    "print(f\"Top {k} accuracy: { topk_accuracies['average']:.4f}\")\n",
    "print(f\"Overall average KL divergence: {overall_kl:.4f}\")\n",
    "print(f\"Overall mean absolute error: {overall_mae:.4f}\")"
   ]
  },
  {
   "cell_type": "code",
   "execution_count": 6,
   "id": "35ee39f0",
   "metadata": {},
   "outputs": [
    {
     "name": "stdout",
     "output_type": "stream",
     "text": [
      "=======Evaluating model=======\n",
      "Top 3 accuracy: 0.7500\n",
      "Overall average KL divergence: 0.5622\n",
      "Overall mean absolute error: 0.0515\n"
     ]
    }
   ],
   "source": [
    "import pandas as pd\n",
    "from baseline.eval import cal_group_kl_divergence,cal_topk_acc\n",
    "\n",
    "result_file = \"models/mobility_agent/mobility_agent_sf_1000.csv\"\n",
    "result_df = pd.read_csv(result_file)\n",
    "\n",
    "print(f\"=======Evaluating model=======\")\n",
    "k = 3\n",
    "topk_accuracies = cal_topk_acc(result_df=result_df,k=k)\n",
    "kl_df, overall_kl,overall_mae = cal_group_kl_divergence(result_df=result_df)\n",
    "print(f\"Top {k} accuracy: { topk_accuracies['average']:.4f}\")\n",
    "print(f\"Overall average KL divergence: {overall_kl:.4f}\")\n",
    "print(f\"Overall mean absolute error: {overall_mae:.4f}\")"
   ]
  },
  {
   "cell_type": "code",
   "execution_count": null,
   "id": "13edc8ff",
   "metadata": {},
   "outputs": [],
   "source": []
  }
 ],
 "metadata": {
  "kernelspec": {
   "display_name": ".venv",
   "language": "python",
   "name": "python3"
  },
  "language_info": {
   "codemirror_mode": {
    "name": "ipython",
    "version": 3
   },
   "file_extension": ".py",
   "mimetype": "text/x-python",
   "name": "python",
   "nbconvert_exporter": "python",
   "pygments_lexer": "ipython3",
   "version": "3.13.3"
  }
 },
 "nbformat": 4,
 "nbformat_minor": 5
}
