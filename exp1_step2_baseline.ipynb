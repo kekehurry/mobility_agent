{
 "cells": [
  {
   "cell_type": "markdown",
   "id": "528a5976",
   "metadata": {},
   "source": [
    "# Random Forest"
   ]
  },
  {
   "cell_type": "code",
   "execution_count": 1,
   "id": "0bbf4cbc",
   "metadata": {},
   "outputs": [
    {
     "name": "stderr",
     "output_type": "stream",
     "text": [
      "  0%|          | 0/10 [00:00<?, ?it/s]"
     ]
    },
    {
     "name": "stdout",
     "output_type": "stream",
     "text": [
      "========Optimizing parameters========\n"
     ]
    },
    {
     "name": "stderr",
     "output_type": "stream",
     "text": [
      " 10%|█         | 1/10 [00:11<01:39, 11.05s/it]"
     ]
    },
    {
     "name": "stdout",
     "output_type": "stream",
     "text": [
      "Best parameters: {'estimator__max_depth': None, 'estimator__min_samples_leaf': 1, 'estimator__min_samples_split': 2, 'estimator__n_estimators': 10}\n",
      "Best cross-validation score: -3.4574\n",
      "=======Training model (num_samples=100)=======\n",
      "Model saved to models/random_forest/randomforest_100.joblib\n",
      "=======Evaluating model=======\n",
      "Top 3 accuracy: 0.8140\n",
      "Overall average KL divergence: 1.8162\n",
      "Overall mean absolute error: 0.0923\n",
      "------------------------------------------------------------------------------------------------------------------------\n",
      "========Optimizing parameters========\n"
     ]
    },
    {
     "name": "stderr",
     "output_type": "stream",
     "text": [
      " 20%|██        | 2/10 [00:20<01:22, 10.26s/it]"
     ]
    },
    {
     "name": "stdout",
     "output_type": "stream",
     "text": [
      "Best parameters: {'estimator__max_depth': None, 'estimator__min_samples_leaf': 1, 'estimator__min_samples_split': 2, 'estimator__n_estimators': 10}\n",
      "Best cross-validation score: -1.5612\n",
      "=======Training model (num_samples=200)=======\n",
      "Model saved to models/random_forest/randomforest_200.joblib\n",
      "=======Evaluating model=======\n",
      "Top 3 accuracy: 0.8170\n",
      "Overall average KL divergence: 1.0187\n",
      "Overall mean absolute error: 0.0804\n",
      "------------------------------------------------------------------------------------------------------------------------\n",
      "========Optimizing parameters========\n"
     ]
    },
    {
     "name": "stderr",
     "output_type": "stream",
     "text": [
      " 30%|███       | 3/10 [00:30<01:09,  9.90s/it]"
     ]
    },
    {
     "name": "stdout",
     "output_type": "stream",
     "text": [
      "Best parameters: {'estimator__max_depth': None, 'estimator__min_samples_leaf': 1, 'estimator__min_samples_split': 2, 'estimator__n_estimators': 10}\n",
      "Best cross-validation score: -1.3985\n",
      "=======Training model (num_samples=300)=======\n",
      "Model saved to models/random_forest/randomforest_300.joblib\n",
      "=======Evaluating model=======\n",
      "Top 3 accuracy: 0.8215\n",
      "Overall average KL divergence: 0.9804\n",
      "Overall mean absolute error: 0.0673\n",
      "------------------------------------------------------------------------------------------------------------------------\n",
      "========Optimizing parameters========\n"
     ]
    },
    {
     "name": "stderr",
     "output_type": "stream",
     "text": [
      " 40%|████      | 4/10 [00:37<00:53,  8.93s/it]"
     ]
    },
    {
     "name": "stdout",
     "output_type": "stream",
     "text": [
      "Best parameters: {'estimator__max_depth': 20, 'estimator__min_samples_leaf': 1, 'estimator__min_samples_split': 2, 'estimator__n_estimators': 10}\n",
      "Best cross-validation score: -0.9694\n",
      "=======Training model (num_samples=400)=======\n",
      "Model saved to models/random_forest/randomforest_400.joblib\n",
      "=======Evaluating model=======\n",
      "Top 3 accuracy: 0.8280\n",
      "Overall average KL divergence: 0.9671\n",
      "Overall mean absolute error: 0.0706\n",
      "------------------------------------------------------------------------------------------------------------------------\n",
      "========Optimizing parameters========\n"
     ]
    },
    {
     "name": "stderr",
     "output_type": "stream",
     "text": [
      " 50%|█████     | 5/10 [00:47<00:45,  9.09s/it]"
     ]
    },
    {
     "name": "stdout",
     "output_type": "stream",
     "text": [
      "Best parameters: {'estimator__max_depth': 10, 'estimator__min_samples_leaf': 1, 'estimator__min_samples_split': 2, 'estimator__n_estimators': 10}\n",
      "Best cross-validation score: -0.9437\n",
      "=======Training model (num_samples=500)=======\n",
      "Model saved to models/random_forest/randomforest_500.joblib\n",
      "=======Evaluating model=======\n",
      "Top 3 accuracy: 0.8860\n",
      "Overall average KL divergence: 1.3274\n",
      "Overall mean absolute error: 0.0793\n",
      "------------------------------------------------------------------------------------------------------------------------\n",
      "========Optimizing parameters========\n"
     ]
    },
    {
     "name": "stderr",
     "output_type": "stream",
     "text": [
      " 60%|██████    | 6/10 [00:54<00:34,  8.57s/it]"
     ]
    },
    {
     "name": "stdout",
     "output_type": "stream",
     "text": [
      "Best parameters: {'estimator__max_depth': 10, 'estimator__min_samples_leaf': 1, 'estimator__min_samples_split': 2, 'estimator__n_estimators': 10}\n",
      "Best cross-validation score: -0.7133\n",
      "=======Training model (num_samples=600)=======\n",
      "Model saved to models/random_forest/randomforest_600.joblib\n",
      "=======Evaluating model=======\n",
      "Top 3 accuracy: 0.8815\n",
      "Overall average KL divergence: 1.1899\n",
      "Overall mean absolute error: 0.0832\n",
      "------------------------------------------------------------------------------------------------------------------------\n",
      "========Optimizing parameters========\n",
      "Best parameters: {'estimator__max_depth': 20, 'estimator__min_samples_leaf': 1, 'estimator__min_samples_split': 2, 'estimator__n_estimators': 100}\n",
      "Best cross-validation score: -0.6698\n",
      "=======Training model (num_samples=700)=======\n",
      "Model saved to models/random_forest/randomforest_700.joblib\n"
     ]
    },
    {
     "name": "stderr",
     "output_type": "stream",
     "text": [
      " 70%|███████   | 7/10 [01:06<00:29,  9.69s/it]"
     ]
    },
    {
     "name": "stdout",
     "output_type": "stream",
     "text": [
      "=======Evaluating model=======\n",
      "Top 3 accuracy: 0.9050\n",
      "Overall average KL divergence: 1.0258\n",
      "Overall mean absolute error: 0.0743\n",
      "------------------------------------------------------------------------------------------------------------------------\n",
      "========Optimizing parameters========\n"
     ]
    },
    {
     "name": "stderr",
     "output_type": "stream",
     "text": [
      " 80%|████████  | 8/10 [01:15<00:18,  9.43s/it]"
     ]
    },
    {
     "name": "stdout",
     "output_type": "stream",
     "text": [
      "Best parameters: {'estimator__max_depth': None, 'estimator__min_samples_leaf': 1, 'estimator__min_samples_split': 2, 'estimator__n_estimators': 10}\n",
      "Best cross-validation score: -0.6211\n",
      "=======Training model (num_samples=800)=======\n",
      "Model saved to models/random_forest/randomforest_800.joblib\n",
      "=======Evaluating model=======\n",
      "Top 3 accuracy: 0.8340\n",
      "Overall average KL divergence: 0.8340\n",
      "Overall mean absolute error: 0.0692\n",
      "------------------------------------------------------------------------------------------------------------------------\n",
      "========Optimizing parameters========\n"
     ]
    },
    {
     "name": "stderr",
     "output_type": "stream",
     "text": [
      " 90%|█████████ | 9/10 [01:27<00:10, 10.10s/it]"
     ]
    },
    {
     "name": "stdout",
     "output_type": "stream",
     "text": [
      "Best parameters: {'estimator__max_depth': None, 'estimator__min_samples_leaf': 1, 'estimator__min_samples_split': 2, 'estimator__n_estimators': 10}\n",
      "Best cross-validation score: -0.5311\n",
      "=======Training model (num_samples=900)=======\n",
      "Model saved to models/random_forest/randomforest_900.joblib\n",
      "=======Evaluating model=======\n",
      "Top 3 accuracy: 0.8330\n",
      "Overall average KL divergence: 0.7124\n",
      "Overall mean absolute error: 0.0684\n",
      "------------------------------------------------------------------------------------------------------------------------\n",
      "========Optimizing parameters========\n"
     ]
    },
    {
     "name": "stderr",
     "output_type": "stream",
     "text": [
      "100%|██████████| 10/10 [01:36<00:00,  9.66s/it]"
     ]
    },
    {
     "name": "stdout",
     "output_type": "stream",
     "text": [
      "Best parameters: {'estimator__max_depth': 20, 'estimator__min_samples_leaf': 1, 'estimator__min_samples_split': 2, 'estimator__n_estimators': 10}\n",
      "Best cross-validation score: -0.5646\n",
      "=======Training model (num_samples=1000)=======\n",
      "Model saved to models/random_forest/randomforest_1000.joblib\n",
      "=======Evaluating model=======\n",
      "Top 3 accuracy: 0.8330\n",
      "Overall average KL divergence: 0.7223\n",
      "Overall mean absolute error: 0.0628\n",
      "------------------------------------------------------------------------------------------------------------------------\n"
     ]
    },
    {
     "name": "stderr",
     "output_type": "stream",
     "text": [
      "\n"
     ]
    }
   ],
   "source": [
    "from baseline.random_forest import RandomForest\n",
    "from tqdm import tqdm\n",
    "import random\n",
    "import numpy as np\n",
    "import os\n",
    "# 设置全局随机种子\n",
    "seed = 42\n",
    "random.seed(seed)\n",
    "np.random.seed(seed)\n",
    "os.environ['PYTHONHASHSEED'] = str(seed)\n",
    "\n",
    "train_file = \"data/reference/replica-cambridge_trips.csv\"\n",
    "eval_file = 'data/eval/replica-cambridge_trips_eval.csv'\n",
    "\n",
    "for i in tqdm(range(1,11)):\n",
    "    num_sample = i*100\n",
    "    RF_model = RandomForest(train_file=train_file,eval_file=eval_file,sample_num=num_sample,seed=seed)\n",
    "    RF_model.train()\n",
    "    topk_accuracies,overall_kl,overall_mae,kl_df = RF_model.evaluate()\n",
    "    print(\"---\"*40)"
   ]
  },
  {
   "cell_type": "markdown",
   "id": "a3f93df6",
   "metadata": {},
   "source": [
    "# XGBoost"
   ]
  },
  {
   "cell_type": "code",
   "execution_count": 2,
   "id": "3efc97a6",
   "metadata": {},
   "outputs": [
    {
     "name": "stderr",
     "output_type": "stream",
     "text": [
      "  0%|          | 0/10 [00:00<?, ?it/s]"
     ]
    },
    {
     "name": "stdout",
     "output_type": "stream",
     "text": [
      "========Optimizing parameters========\n",
      "Best parameters: {'estimator__gamma': 0, 'estimator__learning_rate': 0.001, 'estimator__max_depth': None, 'estimator__n_estimators': 10, 'estimator__subsample': 0.9}\n",
      "Best cross-validation score: -3.5852\n",
      "=======Training model (num_samples=100)=======\n",
      "Model saved to models/xgboost/xgboost_100.joblib\n"
     ]
    },
    {
     "name": "stderr",
     "output_type": "stream",
     "text": [
      " 10%|█         | 1/10 [00:04<00:36,  4.02s/it]"
     ]
    },
    {
     "name": "stdout",
     "output_type": "stream",
     "text": [
      "=======Evaluating model=======\n",
      "Top 3 accuracy: 0.8500\n",
      "Overall average KL divergence: 2.3192\n",
      "Overall mean absolute error: 0.1018\n",
      "------------------------------------------------------------\n",
      "========Optimizing parameters========\n",
      "Best parameters: {'estimator__gamma': 0, 'estimator__learning_rate': 1e-05, 'estimator__max_depth': None, 'estimator__n_estimators': 10, 'estimator__subsample': 0.9}\n",
      "Best cross-validation score: -2.5917\n",
      "=======Training model (num_samples=200)=======\n"
     ]
    },
    {
     "name": "stderr",
     "output_type": "stream",
     "text": [
      " 20%|██        | 2/10 [00:08<00:36,  4.53s/it]"
     ]
    },
    {
     "name": "stdout",
     "output_type": "stream",
     "text": [
      "Model saved to models/xgboost/xgboost_200.joblib\n",
      "=======Evaluating model=======\n",
      "Top 3 accuracy: 0.8825\n",
      "Overall average KL divergence: 2.4230\n",
      "Overall mean absolute error: 0.0875\n",
      "------------------------------------------------------------\n",
      "========Optimizing parameters========\n",
      "Best parameters: {'estimator__gamma': 0, 'estimator__learning_rate': 1e-05, 'estimator__max_depth': 10, 'estimator__n_estimators': 10, 'estimator__subsample': 0.9}\n",
      "Best cross-validation score: -1.9420\n",
      "=======Training model (num_samples=300)=======\n"
     ]
    },
    {
     "name": "stderr",
     "output_type": "stream",
     "text": [
      " 30%|███       | 3/10 [00:14<00:35,  5.10s/it]"
     ]
    },
    {
     "name": "stdout",
     "output_type": "stream",
     "text": [
      "Model saved to models/xgboost/xgboost_300.joblib\n",
      "=======Evaluating model=======\n",
      "Top 3 accuracy: 0.8810\n",
      "Overall average KL divergence: 1.5823\n",
      "Overall mean absolute error: 0.0802\n",
      "------------------------------------------------------------\n",
      "========Optimizing parameters========\n",
      "Best parameters: {'estimator__gamma': 0, 'estimator__learning_rate': 0.001, 'estimator__max_depth': 20, 'estimator__n_estimators': 10, 'estimator__subsample': 0.9}\n",
      "Best cross-validation score: -1.5901\n",
      "=======Training model (num_samples=400)=======\n"
     ]
    },
    {
     "name": "stderr",
     "output_type": "stream",
     "text": [
      " 40%|████      | 4/10 [00:21<00:34,  5.82s/it]"
     ]
    },
    {
     "name": "stdout",
     "output_type": "stream",
     "text": [
      "Model saved to models/xgboost/xgboost_400.joblib\n",
      "=======Evaluating model=======\n",
      "Top 3 accuracy: 0.8810\n",
      "Overall average KL divergence: 1.9369\n",
      "Overall mean absolute error: 0.0866\n",
      "------------------------------------------------------------\n",
      "========Optimizing parameters========\n",
      "Best parameters: {'estimator__gamma': 0.2, 'estimator__learning_rate': 0.001, 'estimator__max_depth': 20, 'estimator__n_estimators': 50, 'estimator__subsample': 0.9}\n",
      "Best cross-validation score: -2.0379\n",
      "=======Training model (num_samples=500)=======\n"
     ]
    },
    {
     "name": "stderr",
     "output_type": "stream",
     "text": [
      " 50%|█████     | 5/10 [00:31<00:37,  7.40s/it]"
     ]
    },
    {
     "name": "stdout",
     "output_type": "stream",
     "text": [
      "Model saved to models/xgboost/xgboost_500.joblib\n",
      "=======Evaluating model=======\n",
      "Top 3 accuracy: 0.9035\n",
      "Overall average KL divergence: 1.9673\n",
      "Overall mean absolute error: 0.0918\n",
      "------------------------------------------------------------\n",
      "========Optimizing parameters========\n",
      "Best parameters: {'estimator__gamma': 0, 'estimator__learning_rate': 0.001, 'estimator__max_depth': 20, 'estimator__n_estimators': 50, 'estimator__subsample': 0.9}\n",
      "Best cross-validation score: -1.3760\n",
      "=======Training model (num_samples=600)=======\n"
     ]
    },
    {
     "name": "stderr",
     "output_type": "stream",
     "text": [
      " 60%|██████    | 6/10 [00:42<00:34,  8.66s/it]"
     ]
    },
    {
     "name": "stdout",
     "output_type": "stream",
     "text": [
      "Model saved to models/xgboost/xgboost_600.joblib\n",
      "=======Evaluating model=======\n",
      "Top 3 accuracy: 0.9005\n",
      "Overall average KL divergence: 1.6758\n",
      "Overall mean absolute error: 0.0888\n",
      "------------------------------------------------------------\n",
      "========Optimizing parameters========\n",
      "Best parameters: {'estimator__gamma': 0, 'estimator__learning_rate': 0.001, 'estimator__max_depth': 20, 'estimator__n_estimators': 50, 'estimator__subsample': 0.9}\n",
      "Best cross-validation score: -1.0462\n",
      "=======Training model (num_samples=700)=======\n"
     ]
    },
    {
     "name": "stderr",
     "output_type": "stream",
     "text": [
      " 70%|███████   | 7/10 [00:54<00:29,  9.69s/it]"
     ]
    },
    {
     "name": "stdout",
     "output_type": "stream",
     "text": [
      "Model saved to models/xgboost/xgboost_700.joblib\n",
      "=======Evaluating model=======\n",
      "Top 3 accuracy: 0.8995\n",
      "Overall average KL divergence: 1.5925\n",
      "Overall mean absolute error: 0.0867\n",
      "------------------------------------------------------------\n",
      "========Optimizing parameters========\n",
      "Best parameters: {'estimator__gamma': 0, 'estimator__learning_rate': 1e-05, 'estimator__max_depth': 20, 'estimator__n_estimators': 10, 'estimator__subsample': 0.9}\n",
      "Best cross-validation score: -1.1585\n",
      "=======Training model (num_samples=800)=======\n"
     ]
    },
    {
     "name": "stderr",
     "output_type": "stream",
     "text": [
      " 80%|████████  | 8/10 [01:04<00:19,  9.63s/it]"
     ]
    },
    {
     "name": "stdout",
     "output_type": "stream",
     "text": [
      "Model saved to models/xgboost/xgboost_800.joblib\n",
      "=======Evaluating model=======\n",
      "Top 3 accuracy: 0.9035\n",
      "Overall average KL divergence: 1.5518\n",
      "Overall mean absolute error: 0.0810\n",
      "------------------------------------------------------------\n",
      "========Optimizing parameters========\n",
      "Best parameters: {'estimator__gamma': 0, 'estimator__learning_rate': 0.001, 'estimator__max_depth': 20, 'estimator__n_estimators': 10, 'estimator__subsample': 0.9}\n",
      "Best cross-validation score: -0.7088\n",
      "=======Training model (num_samples=900)=======\n"
     ]
    },
    {
     "name": "stderr",
     "output_type": "stream",
     "text": [
      " 90%|█████████ | 9/10 [01:14<00:09,  9.82s/it]"
     ]
    },
    {
     "name": "stdout",
     "output_type": "stream",
     "text": [
      "Model saved to models/xgboost/xgboost_900.joblib\n",
      "=======Evaluating model=======\n",
      "Top 3 accuracy: 0.8985\n",
      "Overall average KL divergence: 1.5888\n",
      "Overall mean absolute error: 0.0876\n",
      "------------------------------------------------------------\n",
      "========Optimizing parameters========\n",
      "Best parameters: {'estimator__gamma': 0, 'estimator__learning_rate': 0.001, 'estimator__max_depth': 20, 'estimator__n_estimators': 100, 'estimator__subsample': 0.9}\n",
      "Best cross-validation score: -1.1335\n",
      "=======Training model (num_samples=1000)=======\n"
     ]
    },
    {
     "name": "stderr",
     "output_type": "stream",
     "text": [
      "100%|██████████| 10/10 [01:33<00:00,  9.34s/it]"
     ]
    },
    {
     "name": "stdout",
     "output_type": "stream",
     "text": [
      "Model saved to models/xgboost/xgboost_1000.joblib\n",
      "=======Evaluating model=======\n",
      "Top 3 accuracy: 0.9075\n",
      "Overall average KL divergence: 1.6457\n",
      "Overall mean absolute error: 0.0917\n",
      "------------------------------------------------------------\n"
     ]
    },
    {
     "name": "stderr",
     "output_type": "stream",
     "text": [
      "\n"
     ]
    }
   ],
   "source": [
    "from baseline.xgboost import XGBoost\n",
    "from tqdm import tqdm\n",
    "import random\n",
    "import numpy as np\n",
    "import os\n",
    "# 设置全局随机种子\n",
    "seed = 42\n",
    "random.seed(seed)\n",
    "np.random.seed(seed)\n",
    "os.environ['PYTHONHASHSEED'] = str(seed)  # 确保哈希随机性也被控制\n",
    "\n",
    "train_file = \"data/reference/replica-cambridge_trips.csv\"\n",
    "eval_file = 'data/eval/replica-cambridge_trips_eval.csv'\n",
    "\n",
    "for i in tqdm(range(1,11)):\n",
    "    num_sample = i*100\n",
    "    XGB_model = XGBoost(train_file=train_file,eval_file=eval_file,sample_num=num_sample,seed=seed)\n",
    "    XGB_model.train()\n",
    "    topk_accuracies,overall_kl,overall_mape,kl_df = XGB_model.evaluate()\n",
    "    print(\"---\"*20)"
   ]
  },
  {
   "cell_type": "markdown",
   "id": "bbc18181",
   "metadata": {},
   "source": [
    "# MLP"
   ]
  },
  {
   "cell_type": "code",
   "execution_count": null,
   "id": "c99f1943",
   "metadata": {},
   "outputs": [],
   "source": [
    "from baseline.multilayer_perceptron import MultilayerPerceptron\n",
    "from tqdm import tqdm\n",
    "import random\n",
    "import numpy as np\n",
    "import os\n",
    "# 设置全局随机种子\n",
    "seed = 42\n",
    "random.seed(seed)\n",
    "np.random.seed(seed)\n",
    "os.environ['PYTHONHASHSEED'] = str(seed)  # 确保哈希随机性也被控制\n",
    "\n",
    "train_file = \"data/reference/replica-cambridge_trips.csv\"\n",
    "eval_file = 'data/eval/replica-cambridge_trips_eval.csv'\n",
    "\n",
    "# for i in tqdm(range(1,11)):\n",
    "#     num_sample = i*100\n",
    "#     MLP_model = MultilayerPerceptron(train_file=train_file,eval_file=eval_file,sample_num=num_sample,seed=seed)\n",
    "#     MLP_model.train()\n",
    "#     topk_accuracies,overall_kl,overall_mape,kl_df = MLP_model.evaluate()\n",
    "#     print(\"---\"*20)\n",
    "\n",
    "\n",
    "num_sample = 1000\n",
    "MLP_model = MultilayerPerceptron(train_file=train_file,eval_file=eval_file,sample_num=num_sample,seed=seed)\n",
    "MLP_model.train()\n",
    "topk_accuracies,overall_kl,overall_mape,kl_df = MLP_model.evaluate()\n",
    "print(\"---\"*20)"
   ]
  },
  {
   "cell_type": "code",
   "execution_count": null,
   "id": "5731845b",
   "metadata": {},
   "outputs": [],
   "source": []
  }
 ],
 "metadata": {
  "kernelspec": {
   "display_name": ".venv",
   "language": "python",
   "name": "python3"
  },
  "language_info": {
   "codemirror_mode": {
    "name": "ipython",
    "version": 3
   },
   "file_extension": ".py",
   "mimetype": "text/x-python",
   "name": "python",
   "nbconvert_exporter": "python",
   "pygments_lexer": "ipython3",
   "version": "3.13.3"
  }
 },
 "nbformat": 4,
 "nbformat_minor": 5
}
