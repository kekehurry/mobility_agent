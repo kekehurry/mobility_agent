{
 "cells": [
  {
   "cell_type": "markdown",
   "id": "528a5976",
   "metadata": {},
   "source": [
    "# Random Forest"
   ]
  },
  {
   "cell_type": "code",
   "execution_count": 1,
   "id": "0bbf4cbc",
   "metadata": {},
   "outputs": [
    {
     "name": "stderr",
     "output_type": "stream",
     "text": [
      "  0%|          | 0/10 [00:00<?, ?it/s]"
     ]
    },
    {
     "name": "stdout",
     "output_type": "stream",
     "text": [
      "========Optimizing parameters========\n"
     ]
    },
    {
     "name": "stderr",
     "output_type": "stream",
     "text": [
      " 10%|█         | 1/10 [00:02<00:25,  2.80s/it]"
     ]
    },
    {
     "name": "stdout",
     "output_type": "stream",
     "text": [
      "Best parameters: {'estimator__max_depth': None, 'estimator__min_samples_leaf': 1, 'estimator__min_samples_split': 2, 'estimator__n_estimators': 10}\n",
      "Best cross-validation score: -3.4574\n",
      "=======Training model (num_samples=100)=======\n",
      "Model saved to models/random_forest/randomforest_100.joblib\n",
      "=======Evaluating model=======\n",
      "Top 3 accuracy: 0.8140\n",
      "Overall average KL divergence: 1.6577\n",
      "Overall mean absolute percentage error: 0.7116\n",
      "------------------------------------------------------------------------------------------------------------------------\n",
      "========Optimizing parameters========\n"
     ]
    },
    {
     "name": "stderr",
     "output_type": "stream",
     "text": [
      " 20%|██        | 2/10 [00:04<00:18,  2.30s/it]"
     ]
    },
    {
     "name": "stdout",
     "output_type": "stream",
     "text": [
      "Best parameters: {'estimator__max_depth': None, 'estimator__min_samples_leaf': 1, 'estimator__min_samples_split': 2, 'estimator__n_estimators': 10}\n",
      "Best cross-validation score: -1.5612\n",
      "=======Training model (num_samples=200)=======\n",
      "Model saved to models/random_forest/randomforest_200.joblib\n",
      "=======Evaluating model=======\n",
      "Top 3 accuracy: 0.8170\n",
      "Overall average KL divergence: 1.0163\n",
      "Overall mean absolute percentage error: 0.6600\n",
      "------------------------------------------------------------------------------------------------------------------------\n",
      "========Optimizing parameters========\n"
     ]
    },
    {
     "name": "stderr",
     "output_type": "stream",
     "text": [
      " 30%|███       | 3/10 [00:06<00:15,  2.19s/it]"
     ]
    },
    {
     "name": "stdout",
     "output_type": "stream",
     "text": [
      "Best parameters: {'estimator__max_depth': None, 'estimator__min_samples_leaf': 1, 'estimator__min_samples_split': 2, 'estimator__n_estimators': 10}\n",
      "Best cross-validation score: -1.3985\n",
      "=======Training model (num_samples=300)=======\n",
      "Model saved to models/random_forest/randomforest_300.joblib\n",
      "=======Evaluating model=======\n",
      "Top 3 accuracy: 0.8215\n",
      "Overall average KL divergence: 0.9300\n",
      "Overall mean absolute percentage error: 0.6318\n",
      "------------------------------------------------------------------------------------------------------------------------\n",
      "========Optimizing parameters========\n"
     ]
    },
    {
     "name": "stderr",
     "output_type": "stream",
     "text": [
      " 40%|████      | 4/10 [00:08<00:12,  2.15s/it]"
     ]
    },
    {
     "name": "stdout",
     "output_type": "stream",
     "text": [
      "Best parameters: {'estimator__max_depth': 20, 'estimator__min_samples_leaf': 1, 'estimator__min_samples_split': 2, 'estimator__n_estimators': 10}\n",
      "Best cross-validation score: -0.9694\n",
      "=======Training model (num_samples=400)=======\n",
      "Model saved to models/random_forest/randomforest_400.joblib\n",
      "=======Evaluating model=======\n",
      "Top 3 accuracy: 0.8280\n",
      "Overall average KL divergence: 0.8768\n",
      "Overall mean absolute percentage error: 0.6421\n",
      "------------------------------------------------------------------------------------------------------------------------\n",
      "========Optimizing parameters========\n"
     ]
    },
    {
     "name": "stderr",
     "output_type": "stream",
     "text": [
      " 50%|█████     | 5/10 [00:11<00:10,  2.15s/it]"
     ]
    },
    {
     "name": "stdout",
     "output_type": "stream",
     "text": [
      "Best parameters: {'estimator__max_depth': 10, 'estimator__min_samples_leaf': 1, 'estimator__min_samples_split': 2, 'estimator__n_estimators': 10}\n",
      "Best cross-validation score: -0.9437\n",
      "=======Training model (num_samples=500)=======\n",
      "Model saved to models/random_forest/randomforest_500.joblib\n",
      "=======Evaluating model=======\n",
      "Top 3 accuracy: 0.8860\n",
      "Overall average KL divergence: 1.1996\n",
      "Overall mean absolute percentage error: 0.6307\n",
      "------------------------------------------------------------------------------------------------------------------------\n",
      "========Optimizing parameters========\n"
     ]
    },
    {
     "name": "stderr",
     "output_type": "stream",
     "text": [
      " 60%|██████    | 6/10 [00:13<00:08,  2.19s/it]"
     ]
    },
    {
     "name": "stdout",
     "output_type": "stream",
     "text": [
      "Best parameters: {'estimator__max_depth': 10, 'estimator__min_samples_leaf': 1, 'estimator__min_samples_split': 2, 'estimator__n_estimators': 10}\n",
      "Best cross-validation score: -0.7133\n",
      "=======Training model (num_samples=600)=======\n",
      "Model saved to models/random_forest/randomforest_600.joblib\n",
      "=======Evaluating model=======\n",
      "Top 3 accuracy: 0.8815\n",
      "Overall average KL divergence: 1.0065\n",
      "Overall mean absolute percentage error: 0.6524\n",
      "------------------------------------------------------------------------------------------------------------------------\n",
      "========Optimizing parameters========\n",
      "Best parameters: {'estimator__max_depth': 20, 'estimator__min_samples_leaf': 1, 'estimator__min_samples_split': 2, 'estimator__n_estimators': 100}\n",
      "Best cross-validation score: -0.6698\n",
      "=======Training model (num_samples=700)=======\n",
      "Model saved to models/random_forest/randomforest_700.joblib\n",
      "=======Evaluating model=======\n",
      "Top 3 accuracy: 0.9050\n",
      "Overall average KL divergence: 0.9136\n",
      "Overall mean absolute percentage error: 0.6439\n",
      "------------------------------------------------------------------------------------------------------------------------\n"
     ]
    },
    {
     "name": "stderr",
     "output_type": "stream",
     "text": [
      " 70%|███████   | 7/10 [00:15<00:07,  2.34s/it]"
     ]
    },
    {
     "name": "stdout",
     "output_type": "stream",
     "text": [
      "========Optimizing parameters========\n"
     ]
    },
    {
     "name": "stderr",
     "output_type": "stream",
     "text": [
      " 80%|████████  | 8/10 [00:18<00:04,  2.38s/it]"
     ]
    },
    {
     "name": "stdout",
     "output_type": "stream",
     "text": [
      "Best parameters: {'estimator__max_depth': None, 'estimator__min_samples_leaf': 1, 'estimator__min_samples_split': 2, 'estimator__n_estimators': 10}\n",
      "Best cross-validation score: -0.6211\n",
      "=======Training model (num_samples=800)=======\n",
      "Model saved to models/random_forest/randomforest_800.joblib\n",
      "=======Evaluating model=======\n",
      "Top 3 accuracy: 0.8340\n",
      "Overall average KL divergence: 0.6765\n",
      "Overall mean absolute percentage error: 0.5963\n",
      "------------------------------------------------------------------------------------------------------------------------\n",
      "========Optimizing parameters========\n"
     ]
    },
    {
     "name": "stderr",
     "output_type": "stream",
     "text": [
      " 90%|█████████ | 9/10 [00:21<00:02,  2.44s/it]"
     ]
    },
    {
     "name": "stdout",
     "output_type": "stream",
     "text": [
      "Best parameters: {'estimator__max_depth': None, 'estimator__min_samples_leaf': 1, 'estimator__min_samples_split': 2, 'estimator__n_estimators': 10}\n",
      "Best cross-validation score: -0.5311\n",
      "=======Training model (num_samples=900)=======\n",
      "Model saved to models/random_forest/randomforest_900.joblib\n",
      "=======Evaluating model=======\n",
      "Top 3 accuracy: 0.8330\n",
      "Overall average KL divergence: 0.6266\n",
      "Overall mean absolute percentage error: 0.6023\n",
      "------------------------------------------------------------------------------------------------------------------------\n",
      "========Optimizing parameters========\n"
     ]
    },
    {
     "name": "stderr",
     "output_type": "stream",
     "text": [
      "100%|██████████| 10/10 [00:23<00:00,  2.37s/it]"
     ]
    },
    {
     "name": "stdout",
     "output_type": "stream",
     "text": [
      "Best parameters: {'estimator__max_depth': 20, 'estimator__min_samples_leaf': 1, 'estimator__min_samples_split': 2, 'estimator__n_estimators': 10}\n",
      "Best cross-validation score: -0.5646\n",
      "=======Training model (num_samples=1000)=======\n",
      "Model saved to models/random_forest/randomforest_1000.joblib\n",
      "=======Evaluating model=======\n",
      "Top 3 accuracy: 0.8330\n",
      "Overall average KL divergence: 0.6823\n",
      "Overall mean absolute percentage error: 0.5624\n",
      "------------------------------------------------------------------------------------------------------------------------\n"
     ]
    },
    {
     "name": "stderr",
     "output_type": "stream",
     "text": [
      "\n"
     ]
    }
   ],
   "source": [
    "from baseline.random_forest import RandomForest\n",
    "from tqdm import tqdm\n",
    "import random\n",
    "import numpy as np\n",
    "import os\n",
    "# 设置全局随机种子\n",
    "seed = 42\n",
    "random.seed(seed)\n",
    "np.random.seed(seed)\n",
    "os.environ['PYTHONHASHSEED'] = str(seed)\n",
    "\n",
    "train_file = \"data/reference/replica-cambridge_trips.csv\"\n",
    "eval_file = 'data/eval/replica-cambridge_trips_eval.csv'\n",
    "\n",
    "for i in tqdm(range(1,11)):\n",
    "    num_sample = i*100\n",
    "    RF_model = RandomForest(train_file=train_file,eval_file=eval_file,sample_num=num_sample,seed=seed)\n",
    "    RF_model.train()\n",
    "    topk_accuracies,overall_kl,overall_mape,kl_df = RF_model.evaluate()\n",
    "    print(\"---\"*40)"
   ]
  },
  {
   "cell_type": "markdown",
   "id": "a3f93df6",
   "metadata": {},
   "source": [
    "# XGBoost"
   ]
  },
  {
   "cell_type": "code",
   "execution_count": 2,
   "id": "3efc97a6",
   "metadata": {},
   "outputs": [
    {
     "name": "stderr",
     "output_type": "stream",
     "text": [
      "  0%|          | 0/10 [00:00<?, ?it/s]"
     ]
    },
    {
     "name": "stdout",
     "output_type": "stream",
     "text": [
      "========Optimizing parameters========\n",
      "Best parameters: {'estimator__gamma': 0, 'estimator__learning_rate': 0.001, 'estimator__max_depth': None, 'estimator__n_estimators': 10, 'estimator__subsample': 0.9}\n",
      "Best cross-validation score: -3.5852\n",
      "=======Training model (num_samples=100)=======\n",
      "Model saved to models/xgboost/xgboost_100.joblib\n"
     ]
    },
    {
     "name": "stderr",
     "output_type": "stream",
     "text": [
      " 10%|█         | 1/10 [00:03<00:33,  3.70s/it]"
     ]
    },
    {
     "name": "stdout",
     "output_type": "stream",
     "text": [
      "=======Evaluating model=======\n",
      "Top 3 accuracy: 0.8500\n",
      "Overall average KL divergence: 2.3192\n",
      "Overall mean absolute percentage error: 0.7509\n",
      "------------------------------------------------------------\n",
      "========Optimizing parameters========\n",
      "Best parameters: {'estimator__gamma': 0, 'estimator__learning_rate': 1e-05, 'estimator__max_depth': None, 'estimator__n_estimators': 10, 'estimator__subsample': 0.9}\n",
      "Best cross-validation score: -2.5917\n",
      "=======Training model (num_samples=200)=======\n"
     ]
    },
    {
     "name": "stderr",
     "output_type": "stream",
     "text": [
      " 20%|██        | 2/10 [00:08<00:34,  4.32s/it]"
     ]
    },
    {
     "name": "stdout",
     "output_type": "stream",
     "text": [
      "Model saved to models/xgboost/xgboost_200.joblib\n",
      "=======Evaluating model=======\n",
      "Top 3 accuracy: 0.8825\n",
      "Overall average KL divergence: 2.4230\n",
      "Overall mean absolute percentage error: 0.7244\n",
      "------------------------------------------------------------\n",
      "========Optimizing parameters========\n",
      "Best parameters: {'estimator__gamma': 0, 'estimator__learning_rate': 1e-05, 'estimator__max_depth': 10, 'estimator__n_estimators': 10, 'estimator__subsample': 0.9}\n",
      "Best cross-validation score: -1.9420\n",
      "=======Training model (num_samples=300)=======\n"
     ]
    },
    {
     "name": "stderr",
     "output_type": "stream",
     "text": [
      " 30%|███       | 3/10 [00:14<00:34,  4.93s/it]"
     ]
    },
    {
     "name": "stdout",
     "output_type": "stream",
     "text": [
      "Model saved to models/xgboost/xgboost_300.joblib\n",
      "=======Evaluating model=======\n",
      "Top 3 accuracy: 0.8810\n",
      "Overall average KL divergence: 1.5823\n",
      "Overall mean absolute percentage error: 0.6948\n",
      "------------------------------------------------------------\n",
      "========Optimizing parameters========\n",
      "Best parameters: {'estimator__gamma': 0, 'estimator__learning_rate': 0.001, 'estimator__max_depth': 20, 'estimator__n_estimators': 10, 'estimator__subsample': 0.9}\n",
      "Best cross-validation score: -1.5901\n",
      "=======Training model (num_samples=400)=======\n"
     ]
    },
    {
     "name": "stderr",
     "output_type": "stream",
     "text": [
      " 40%|████      | 4/10 [00:20<00:33,  5.54s/it]"
     ]
    },
    {
     "name": "stdout",
     "output_type": "stream",
     "text": [
      "Model saved to models/xgboost/xgboost_400.joblib\n",
      "=======Evaluating model=======\n",
      "Top 3 accuracy: 0.8810\n",
      "Overall average KL divergence: 1.9369\n",
      "Overall mean absolute percentage error: 0.7277\n",
      "------------------------------------------------------------\n",
      "========Optimizing parameters========\n",
      "Best parameters: {'estimator__gamma': 0.2, 'estimator__learning_rate': 0.001, 'estimator__max_depth': 20, 'estimator__n_estimators': 50, 'estimator__subsample': 0.9}\n",
      "Best cross-validation score: -2.0379\n",
      "=======Training model (num_samples=500)=======\n"
     ]
    },
    {
     "name": "stderr",
     "output_type": "stream",
     "text": [
      " 50%|█████     | 5/10 [00:30<00:35,  7.09s/it]"
     ]
    },
    {
     "name": "stdout",
     "output_type": "stream",
     "text": [
      "Model saved to models/xgboost/xgboost_500.joblib\n",
      "=======Evaluating model=======\n",
      "Top 3 accuracy: 0.9035\n",
      "Overall average KL divergence: 1.9673\n",
      "Overall mean absolute percentage error: 0.7467\n",
      "------------------------------------------------------------\n",
      "========Optimizing parameters========\n",
      "Best parameters: {'estimator__gamma': 0, 'estimator__learning_rate': 0.001, 'estimator__max_depth': 20, 'estimator__n_estimators': 50, 'estimator__subsample': 0.9}\n",
      "Best cross-validation score: -1.3760\n",
      "=======Training model (num_samples=600)=======\n"
     ]
    },
    {
     "name": "stderr",
     "output_type": "stream",
     "text": [
      " 60%|██████    | 6/10 [00:41<00:33,  8.34s/it]"
     ]
    },
    {
     "name": "stdout",
     "output_type": "stream",
     "text": [
      "Model saved to models/xgboost/xgboost_600.joblib\n",
      "=======Evaluating model=======\n",
      "Top 3 accuracy: 0.9005\n",
      "Overall average KL divergence: 1.6758\n",
      "Overall mean absolute percentage error: 0.7231\n",
      "------------------------------------------------------------\n",
      "========Optimizing parameters========\n",
      "Best parameters: {'estimator__gamma': 0, 'estimator__learning_rate': 0.001, 'estimator__max_depth': 20, 'estimator__n_estimators': 50, 'estimator__subsample': 0.9}\n",
      "Best cross-validation score: -1.0462\n",
      "=======Training model (num_samples=700)=======\n"
     ]
    },
    {
     "name": "stderr",
     "output_type": "stream",
     "text": [
      " 70%|███████   | 7/10 [00:52<00:28,  9.44s/it]"
     ]
    },
    {
     "name": "stdout",
     "output_type": "stream",
     "text": [
      "Model saved to models/xgboost/xgboost_700.joblib\n",
      "=======Evaluating model=======\n",
      "Top 3 accuracy: 0.8995\n",
      "Overall average KL divergence: 1.5925\n",
      "Overall mean absolute percentage error: 0.7128\n",
      "------------------------------------------------------------\n",
      "========Optimizing parameters========\n",
      "Best parameters: {'estimator__gamma': 0, 'estimator__learning_rate': 1e-05, 'estimator__max_depth': 20, 'estimator__n_estimators': 10, 'estimator__subsample': 0.9}\n",
      "Best cross-validation score: -1.1585\n",
      "=======Training model (num_samples=800)=======\n"
     ]
    },
    {
     "name": "stderr",
     "output_type": "stream",
     "text": [
      " 80%|████████  | 8/10 [01:01<00:18,  9.31s/it]"
     ]
    },
    {
     "name": "stdout",
     "output_type": "stream",
     "text": [
      "Model saved to models/xgboost/xgboost_800.joblib\n",
      "=======Evaluating model=======\n",
      "Top 3 accuracy: 0.9035\n",
      "Overall average KL divergence: 1.5518\n",
      "Overall mean absolute percentage error: 0.7005\n",
      "------------------------------------------------------------\n",
      "========Optimizing parameters========\n",
      "Best parameters: {'estimator__gamma': 0, 'estimator__learning_rate': 0.001, 'estimator__max_depth': 20, 'estimator__n_estimators': 10, 'estimator__subsample': 0.9}\n",
      "Best cross-validation score: -0.7088\n",
      "=======Training model (num_samples=900)=======\n"
     ]
    },
    {
     "name": "stderr",
     "output_type": "stream",
     "text": [
      " 90%|█████████ | 9/10 [01:11<00:09,  9.45s/it]"
     ]
    },
    {
     "name": "stdout",
     "output_type": "stream",
     "text": [
      "Model saved to models/xgboost/xgboost_900.joblib\n",
      "=======Evaluating model=======\n",
      "Top 3 accuracy: 0.8985\n",
      "Overall average KL divergence: 1.5888\n",
      "Overall mean absolute percentage error: 0.7204\n",
      "------------------------------------------------------------\n",
      "========Optimizing parameters========\n",
      "Best parameters: {'estimator__gamma': 0, 'estimator__learning_rate': 0.001, 'estimator__max_depth': 20, 'estimator__n_estimators': 100, 'estimator__subsample': 0.9}\n",
      "Best cross-validation score: -1.1335\n",
      "=======Training model (num_samples=1000)=======\n"
     ]
    },
    {
     "name": "stderr",
     "output_type": "stream",
     "text": [
      "100%|██████████| 10/10 [01:29<00:00,  9.00s/it]"
     ]
    },
    {
     "name": "stdout",
     "output_type": "stream",
     "text": [
      "Model saved to models/xgboost/xgboost_1000.joblib\n",
      "=======Evaluating model=======\n",
      "Top 3 accuracy: 0.9075\n",
      "Overall average KL divergence: 1.6457\n",
      "Overall mean absolute percentage error: 0.7227\n",
      "------------------------------------------------------------\n"
     ]
    },
    {
     "name": "stderr",
     "output_type": "stream",
     "text": [
      "\n"
     ]
    }
   ],
   "source": [
    "from baseline.xgboost import XGBoost\n",
    "from tqdm import tqdm\n",
    "import random\n",
    "import numpy as np\n",
    "import os\n",
    "# 设置全局随机种子\n",
    "seed = 42\n",
    "random.seed(seed)\n",
    "np.random.seed(seed)\n",
    "os.environ['PYTHONHASHSEED'] = str(seed)  # 确保哈希随机性也被控制\n",
    "\n",
    "train_file = \"data/reference/replica-cambridge_trips.csv\"\n",
    "eval_file = 'data/eval/replica-cambridge_trips_eval.csv'\n",
    "\n",
    "for i in tqdm(range(1,11)):\n",
    "    num_sample = i*100\n",
    "    XGB_model = XGBoost(train_file=train_file,eval_file=eval_file,sample_num=num_sample,seed=seed)\n",
    "    XGB_model.train()\n",
    "    topk_accuracies,overall_kl,overall_mape,kl_df = XGB_model.evaluate()\n",
    "    print(\"---\"*20)"
   ]
  },
  {
   "cell_type": "markdown",
   "id": "bbc18181",
   "metadata": {},
   "source": [
    "# MLP"
   ]
  },
  {
   "cell_type": "code",
   "execution_count": 3,
   "id": "c99f1943",
   "metadata": {},
   "outputs": [
    {
     "name": "stderr",
     "output_type": "stream",
     "text": [
      "  0%|          | 0/10 [00:00<?, ?it/s]"
     ]
    },
    {
     "name": "stdout",
     "output_type": "stream",
     "text": [
      "========Optimizing parameters========\n",
      "Best parameters: {'estimator__activation': 'relu', 'estimator__alpha': 1e-05, 'estimator__hidden_layer_sizes': (150, 150), 'estimator__learning_rate_init': 0.001}\n",
      "Best cross-validation score: -1.6857\n",
      "=======Training model (num_samples=100)=======\n"
     ]
    },
    {
     "name": "stderr",
     "output_type": "stream",
     "text": [
      " 10%|█         | 1/10 [00:19<02:55, 19.50s/it]"
     ]
    },
    {
     "name": "stdout",
     "output_type": "stream",
     "text": [
      "Model saved to models/multilayer_perceptron/multilayerperceptron_100.joblib\n",
      "=======Evaluating model=======\n",
      "Top 3 accuracy: 0.8000\n",
      "Overall average KL divergence: 0.8278\n",
      "Overall mean absolute percentage error: 0.7909\n",
      "------------------------------------------------------------\n",
      "========Optimizing parameters========\n",
      "Best parameters: {'estimator__activation': 'relu', 'estimator__alpha': 0.0001, 'estimator__hidden_layer_sizes': (100, 100), 'estimator__learning_rate_init': 0.01}\n",
      "Best cross-validation score: -0.5315\n",
      "=======Training model (num_samples=200)=======\n"
     ]
    },
    {
     "name": "stderr",
     "output_type": "stream",
     "text": [
      " 20%|██        | 2/10 [00:56<03:56, 29.61s/it]"
     ]
    },
    {
     "name": "stdout",
     "output_type": "stream",
     "text": [
      "Model saved to models/multilayer_perceptron/multilayerperceptron_200.joblib\n",
      "=======Evaluating model=======\n",
      "Top 3 accuracy: 0.8420\n",
      "Overall average KL divergence: 0.3705\n",
      "Overall mean absolute percentage error: 0.6146\n",
      "------------------------------------------------------------\n",
      "========Optimizing parameters========\n",
      "Best parameters: {'estimator__activation': 'relu', 'estimator__alpha': 1e-05, 'estimator__hidden_layer_sizes': (150, 150), 'estimator__learning_rate_init': 0.01}\n",
      "Best cross-validation score: -0.4307\n",
      "=======Training model (num_samples=300)=======\n"
     ]
    },
    {
     "name": "stderr",
     "output_type": "stream",
     "text": [
      " 30%|███       | 3/10 [01:24<03:24, 29.20s/it]"
     ]
    },
    {
     "name": "stdout",
     "output_type": "stream",
     "text": [
      "Model saved to models/multilayer_perceptron/multilayerperceptron_300.joblib\n",
      "=======Evaluating model=======\n",
      "Top 3 accuracy: 0.8635\n",
      "Overall average KL divergence: 0.3686\n",
      "Overall mean absolute percentage error: 0.6063\n",
      "------------------------------------------------------------\n",
      "========Optimizing parameters========\n",
      "Best parameters: {'estimator__activation': 'tanh', 'estimator__alpha': 1e-05, 'estimator__hidden_layer_sizes': (50, 50), 'estimator__learning_rate_init': 0.01}\n",
      "Best cross-validation score: -0.2890\n",
      "=======Training model (num_samples=400)=======\n"
     ]
    },
    {
     "name": "stderr",
     "output_type": "stream",
     "text": [
      " 40%|████      | 4/10 [03:32<06:48, 68.13s/it]"
     ]
    },
    {
     "name": "stdout",
     "output_type": "stream",
     "text": [
      "Model saved to models/multilayer_perceptron/multilayerperceptron_400.joblib\n",
      "=======Evaluating model=======\n",
      "Top 3 accuracy: 0.8420\n",
      "Overall average KL divergence: 0.2516\n",
      "Overall mean absolute percentage error: 0.6598\n",
      "------------------------------------------------------------\n",
      "========Optimizing parameters========\n",
      "Best parameters: {'estimator__activation': 'tanh', 'estimator__alpha': 0.001, 'estimator__hidden_layer_sizes': (50, 50), 'estimator__learning_rate_init': 0.01}\n",
      "Best cross-validation score: -0.2201\n",
      "=======Training model (num_samples=500)=======\n"
     ]
    },
    {
     "name": "stderr",
     "output_type": "stream",
     "text": [
      " 50%|█████     | 5/10 [06:37<09:11, 110.29s/it]"
     ]
    },
    {
     "name": "stdout",
     "output_type": "stream",
     "text": [
      "Model saved to models/multilayer_perceptron/multilayerperceptron_500.joblib\n",
      "=======Evaluating model=======\n",
      "Top 3 accuracy: 0.8450\n",
      "Overall average KL divergence: 0.3381\n",
      "Overall mean absolute percentage error: 0.5805\n",
      "------------------------------------------------------------\n",
      "========Optimizing parameters========\n",
      "Best parameters: {'estimator__activation': 'relu', 'estimator__alpha': 0.0001, 'estimator__hidden_layer_sizes': (150, 150), 'estimator__learning_rate_init': 0.01}\n",
      "Best cross-validation score: -0.2367\n",
      "=======Training model (num_samples=600)=======\n"
     ]
    },
    {
     "name": "stderr",
     "output_type": "stream",
     "text": [
      " 60%|██████    | 6/10 [11:01<10:50, 162.54s/it]"
     ]
    },
    {
     "name": "stdout",
     "output_type": "stream",
     "text": [
      "Model saved to models/multilayer_perceptron/multilayerperceptron_600.joblib\n",
      "=======Evaluating model=======\n",
      "Top 3 accuracy: 0.8780\n",
      "Overall average KL divergence: 0.2848\n",
      "Overall mean absolute percentage error: 0.6223\n",
      "------------------------------------------------------------\n",
      "========Optimizing parameters========\n",
      "Best parameters: {'estimator__activation': 'relu', 'estimator__alpha': 0.0001, 'estimator__hidden_layer_sizes': (150, 150), 'estimator__learning_rate_init': 0.01}\n",
      "Best cross-validation score: -0.1997\n",
      "=======Training model (num_samples=700)=======\n"
     ]
    },
    {
     "name": "stderr",
     "output_type": "stream",
     "text": [
      " 70%|███████   | 7/10 [15:21<09:43, 194.43s/it]"
     ]
    },
    {
     "name": "stdout",
     "output_type": "stream",
     "text": [
      "Model saved to models/multilayer_perceptron/multilayerperceptron_700.joblib\n",
      "=======Evaluating model=======\n",
      "Top 3 accuracy: 0.8760\n",
      "Overall average KL divergence: 0.3813\n",
      "Overall mean absolute percentage error: 0.6232\n",
      "------------------------------------------------------------\n",
      "========Optimizing parameters========\n",
      "Best parameters: {'estimator__activation': 'tanh', 'estimator__alpha': 0.001, 'estimator__hidden_layer_sizes': (100, 100), 'estimator__learning_rate_init': 0.01}\n",
      "Best cross-validation score: -0.1316\n",
      "=======Training model (num_samples=800)=======\n"
     ]
    },
    {
     "name": "stderr",
     "output_type": "stream",
     "text": [
      " 80%|████████  | 8/10 [17:08<05:32, 166.44s/it]"
     ]
    },
    {
     "name": "stdout",
     "output_type": "stream",
     "text": [
      "Model saved to models/multilayer_perceptron/multilayerperceptron_800.joblib\n",
      "=======Evaluating model=======\n",
      "Top 3 accuracy: 0.8720\n",
      "Overall average KL divergence: 0.3776\n",
      "Overall mean absolute percentage error: 0.5787\n",
      "------------------------------------------------------------\n",
      "========Optimizing parameters========\n",
      "Best parameters: {'estimator__activation': 'tanh', 'estimator__alpha': 0.0001, 'estimator__hidden_layer_sizes': (50, 50), 'estimator__learning_rate_init': 0.01}\n",
      "Best cross-validation score: -0.0901\n",
      "=======Training model (num_samples=900)=======\n"
     ]
    },
    {
     "name": "stderr",
     "output_type": "stream",
     "text": [
      " 90%|█████████ | 9/10 [21:55<03:24, 204.26s/it]"
     ]
    },
    {
     "name": "stdout",
     "output_type": "stream",
     "text": [
      "Model saved to models/multilayer_perceptron/multilayerperceptron_900.joblib\n",
      "=======Evaluating model=======\n",
      "Top 3 accuracy: 0.8670\n",
      "Overall average KL divergence: 0.3189\n",
      "Overall mean absolute percentage error: 0.5317\n",
      "------------------------------------------------------------\n",
      "========Optimizing parameters========\n",
      "Best parameters: {'estimator__activation': 'relu', 'estimator__alpha': 0.001, 'estimator__hidden_layer_sizes': (150, 150), 'estimator__learning_rate_init': 0.01}\n",
      "Best cross-validation score: -0.1268\n",
      "=======Training model (num_samples=1000)=======\n"
     ]
    },
    {
     "name": "stderr",
     "output_type": "stream",
     "text": [
      "100%|██████████| 10/10 [27:46<00:00, 166.61s/it]"
     ]
    },
    {
     "name": "stdout",
     "output_type": "stream",
     "text": [
      "Model saved to models/multilayer_perceptron/multilayerperceptron_1000.joblib\n",
      "=======Evaluating model=======\n",
      "Top 3 accuracy: 0.8765\n",
      "Overall average KL divergence: 0.3236\n",
      "Overall mean absolute percentage error: 0.6284\n",
      "------------------------------------------------------------\n"
     ]
    },
    {
     "name": "stderr",
     "output_type": "stream",
     "text": [
      "\n"
     ]
    }
   ],
   "source": [
    "from baseline.multilayer_perceptron import MultilayerPerceptron\n",
    "from tqdm import tqdm\n",
    "import random\n",
    "import numpy as np\n",
    "import os\n",
    "# 设置全局随机种子\n",
    "seed = 42\n",
    "random.seed(seed)\n",
    "np.random.seed(seed)\n",
    "os.environ['PYTHONHASHSEED'] = str(seed)  # 确保哈希随机性也被控制\n",
    "\n",
    "train_file = \"data/reference/replica-cambridge_trips.csv\"\n",
    "eval_file = 'data/eval/replica-cambridge_trips_eval.csv'\n",
    "\n",
    "for i in tqdm(range(1,11)):\n",
    "    num_sample = i*100\n",
    "    MLP_model = MultilayerPerceptron(train_file=train_file,eval_file=eval_file,sample_num=num_sample,seed=seed)\n",
    "    MLP_model.train()\n",
    "    topk_accuracies,overall_kl,overall_mape,kl_df = MLP_model.evaluate()\n",
    "    print(\"---\"*20)"
   ]
  },
  {
   "cell_type": "code",
   "execution_count": null,
   "id": "60746ef8",
   "metadata": {},
   "outputs": [],
   "source": []
  }
 ],
 "metadata": {
  "kernelspec": {
   "display_name": ".venv",
   "language": "python",
   "name": "python3"
  },
  "language_info": {
   "codemirror_mode": {
    "name": "ipython",
    "version": 3
   },
   "file_extension": ".py",
   "mimetype": "text/x-python",
   "name": "python",
   "nbconvert_exporter": "python",
   "pygments_lexer": "ipython3",
   "version": "3.13.3"
  }
 },
 "nbformat": 4,
 "nbformat_minor": 5
}
